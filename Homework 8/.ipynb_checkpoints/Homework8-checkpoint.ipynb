{
 "cells": [
  {
   "cell_type": "markdown",
   "id": "a9a301f2",
   "metadata": {},
   "source": [
    "# Homework 8"
   ]
  },
  {
   "cell_type": "markdown",
   "id": "35d943de",
   "metadata": {},
   "source": [
    "## Exercise 1"
   ]
  },
  {
   "cell_type": "code",
   "execution_count": 92,
   "id": "0ee300cd",
   "metadata": {},
   "outputs": [],
   "source": [
    "class Graph:\n",
    "    \n",
    "    def __init__(self, vertices_num):\n",
    "        self.ids = {}\n",
    "        self.adjacent = [[] for _ in range(vertices_num)]\n",
    "    \n",
    "    def add_edge(self, v1, v2):\n",
    "        if v1 in self.adjacent[v2]:\n",
    "            return\n",
    "        self.adjacent[v1].append(v2)\n",
    "        self.adjacent[v2].append(v1)\n",
    "    \n",
    "    def parse(self, file):\n",
    "        # skip unnecessary first 4 lines\n",
    "        for line in file.readlines()[4:]:\n",
    "            edge = line.split()\n",
    "            for v in edge:\n",
    "                if v not in self.ids:\n",
    "                    self.ids[v] = len(self.ids)\n",
    "            \n",
    "            self.add_edge(self.ids[edge[0]], self.ids[edge[1]])\n",
    "    \n",
    "    def degree(self, vertex):\n",
    "        return len(self.adjacent[vertex])\n",
    "    \n",
    "    def size(self):\n",
    "        return len(self.adjacent)\n",
    "    \n",
    "    def edges_num(self):\n",
    "        return sum([len(lst) for lst in self.adjacent]) // 2"
   ]
  },
  {
   "cell_type": "code",
   "execution_count": 44,
   "id": "63eba02e",
   "metadata": {},
   "outputs": [],
   "source": [
    "import gzip\n",
    "import requests"
   ]
  },
  {
   "cell_type": "markdown",
   "id": "fe3a38f4",
   "metadata": {},
   "source": [
    "Let's download the archive for **High-energy physics citation network**.  \n",
    "  \n",
    "Arxiv HEP-PH (high energy physics phenomenology ) citation graph is from the e-print arXiv and covers all the citations within a dataset of 34,546 papers with 421,578 edges. If a paper i cites paper j, the graph contains a directed edge from i to j. If a paper cites, or is cited by, a paper outside the dataset, the graph does not contain any information about this."
   ]
  },
  {
   "cell_type": "code",
   "execution_count": 4,
   "id": "a4a9e9a4",
   "metadata": {},
   "outputs": [],
   "source": [
    "with open('citations.gz', 'wb') as file:\n",
    "    file.write(requests.get('https://snap.stanford.edu/data/cit-HepPh.txt.gz').content)"
   ]
  },
  {
   "cell_type": "markdown",
   "id": "04ed4484",
   "metadata": {},
   "source": [
    "Let's download the archive for **Google web graph**.  \n",
    "  \n",
    "Nodes represent web pages and directed edges represent hyperlinks between them. The data was released in 2002 by Google as a part of Google Programming Contest."
   ]
  },
  {
   "cell_type": "code",
   "execution_count": 5,
   "id": "f4f64333",
   "metadata": {},
   "outputs": [],
   "source": [
    "with open('googleweb.gz', 'wb') as file:\n",
    "    file.write(requests.get('https://snap.stanford.edu/data/web-Google.txt.gz').content)"
   ]
  },
  {
   "cell_type": "markdown",
   "id": "f04fdb35",
   "metadata": {},
   "source": [
    "Let's parse the graphs into the respective class instances and analyze them."
   ]
  },
  {
   "cell_type": "code",
   "execution_count": 3,
   "id": "1b528f16",
   "metadata": {},
   "outputs": [],
   "source": [
    "import matplotlib.pyplot as plt\n",
    "import numpy as np"
   ]
  },
  {
   "cell_type": "code",
   "execution_count": 84,
   "id": "f176ece5",
   "metadata": {},
   "outputs": [],
   "source": [
    "def plot_degree_hist(degrees, bins, range_, title, color):\n",
    "    plt.rcParams[\"figure.figsize\"] = (12, 8)\n",
    "    plt.xlabel('vertex degree')\n",
    "    plt.ylabel('number of vertices')\n",
    "    plt.title(title)\n",
    "    plt.hist(degrees, bins, range_, color=color)\n",
    "    \n",
    "    plt.show()"
   ]
  },
  {
   "cell_type": "code",
   "execution_count": 93,
   "id": "12d00f28",
   "metadata": {},
   "outputs": [
    {
     "name": "stdout",
     "output_type": "stream",
     "text": [
      "Number of nodes: 34546\n",
      "Number of edges: 420921\n"
     ]
    }
   ],
   "source": [
    "citations_graph = Graph(34546)\n",
    "\n",
    "with gzip.open('citations.gz','r') as file:\n",
    "    citations_graph.parse(file)\n",
    "\n",
    "print(f\"Number of nodes: {citations_graph.size()}\")\n",
    "print(f\"Number of edges: {citations_graph.edges_num()}\")"
   ]
  },
  {
   "cell_type": "markdown",
   "id": "4baf72a4",
   "metadata": {},
   "source": [
    "Typically dense graphs have a quadratic number of edges. The actual number of edges in the graph is much less than $|V|^2$ and about 10 times greater than the number of nodes. Therefore we can't call the graph dense, it is rather sparse. This means, by the way, the the chosen graph representation as an adjacency list suits the nature of the graph well."
   ]
  },
  {
   "cell_type": "code",
   "execution_count": 90,
   "id": "1855d903",
   "metadata": {},
   "outputs": [
    {
     "data": {
      "image/png": "[encoded data removed]",
      "text/plain": [
       "<Figure size 864x576 with 1 Axes>"
      ]
     },
     "metadata": {
      "needs_background": "light"
     },
     "output_type": "display_data"
    }
   ],
   "source": [
    "degrees = [citations_graph.degree(i) for i in range(citations_graph.size())]\n",
    "plot_degree_hist(degrees, 100, (0, 400), \"Histogram of vertex degrees of High-Energy Physics Citation Network\", 'blue')"
   ]
  },
  {
   "cell_type": "markdown",
   "id": "71cd96db",
   "metadata": {},
   "source": [
    "From the histogram, we may conclude that most of the nodes (papers) have just a few outgoing edges (citations). Node degrees (number of citations) subside exponentially."
   ]
  },
  {
   "cell_type": "code",
   "execution_count": 94,
   "id": "1e106ffd",
   "metadata": {},
   "outputs": [
    {
     "name": "stdout",
     "output_type": "stream",
     "text": [
      "Number of nodes: 875713\n",
      "Number of edges: 4322051\n"
     ]
    }
   ],
   "source": [
    "web_graph = Graph(875713)\n",
    "\n",
    "with gzip.open('googleweb.gz','r') as file:\n",
    "    web_graph.parse(file)\n",
    "\n",
    "print(f\"Number of nodes: {web_graph.size()}\")\n",
    "print(f\"Number of edges: {web_graph.edges_num()}\")"
   ]
  },
  {
   "cell_type": "markdown",
   "id": "c76e305b",
   "metadata": {},
   "source": [
    "Typically dense graphs have a quadratic number of edges. The actual number of edges in the graph is much less than $|V|^2$ and about 5 times greater than the number of nodes. Therefore we can't call the graph dense, it is rather sparse. This means, by the way, the the chosen graph representation as an adjacency list suits the nature of the graph well."
   ]
  },
  {
   "cell_type": "code",
   "execution_count": 91,
   "id": "dbc9ea86",
   "metadata": {},
   "outputs": [
    {
     "data": {
      "image/png": "[encoded data removed]",
      "text/plain": [
       "<Figure size 864x576 with 1 Axes>"
      ]
     },
     "metadata": {
      "needs_background": "light"
     },
     "output_type": "display_data"
    }
   ],
   "source": [
    "degrees = [web_graph.degree(i) for i in range(web_graph.size())]\n",
    "plot_degree_hist(degrees, 100, (0, 150), \"Histogram of vertex degrees of Google Web Graph\", 'orange')"
   ]
  },
  {
   "cell_type": "markdown",
   "id": "330be034",
   "metadata": {},
   "source": [
    "From the histogram, we may conclude that most of the nodes (webpages) have just a few outgoing edges (hyperlinks). Node degrees (number of hyperlinks) subside exponentially."
   ]
  },
  {
   "cell_type": "markdown",
   "id": "6c00404b",
   "metadata": {},
   "source": [
    "## Exercise 2"
   ]
  },
  {
   "cell_type": "code",
   "execution_count": 4,
   "id": "daa63dc4",
   "metadata": {},
   "outputs": [],
   "source": [
    "import bisect\n",
    "import urllib\n",
    "\n",
    "from collections import deque"
   ]
  },
  {
   "cell_type": "code",
   "execution_count": 23,
   "id": "f198fdee",
   "metadata": {},
   "outputs": [],
   "source": [
    "class AnotherGraph:\n",
    "    \n",
    "    def __init__(self):\n",
    "        self.coordinates = []\n",
    "        self.adjacent = []\n",
    "    \n",
    "    def add_edge(self, v1, v2):\n",
    "        if v1 in self.adjacent[v2]:\n",
    "            return\n",
    "        bisect.insort(self.adjacent[v1], v2)\n",
    "        bisect.insort(self.adjacent[v2], v1)\n",
    "    \n",
    "    def parse(self, file):\n",
    "        is_vertex = True\n",
    "        \n",
    "        for line in file.readlines():\n",
    "            line = line.split()\n",
    "            line = [string.decode('utf-8') for string in line]\n",
    "            \n",
    "            if len(line) == 0 or line[0] == 'VERTICES':\n",
    "                continue\n",
    "            \n",
    "            if line[0] == 'EDGES':\n",
    "                is_vertex = False\n",
    "                continue\n",
    "            \n",
    "            if is_vertex:\n",
    "                v = int(line[0])\n",
    "                x = int(line[1])\n",
    "                y = int(line[2])\n",
    "                self.adjacent.append([])\n",
    "                self.coordinates.append((x, y))\n",
    "            else:\n",
    "                self.add_edge(int(line[0]), int(line[1]))\n",
    "                \n",
    "    def size(self):\n",
    "        return len(self.adjacent)\n",
    "\n",
    "    def neighbours(self, vertex):\n",
    "        return self.adjacent[vertex]"
   ]
  },
  {
   "cell_type": "code",
   "execution_count": 24,
   "id": "67193b23",
   "metadata": {},
   "outputs": [],
   "source": [
    "def BFS(graph):\n",
    "    result = []\n",
    "    used = [False] * graph.size()\n",
    "    queue = deque([0])\n",
    "    used[0] = True\n",
    "    \n",
    "    while len(queue) != 0:\n",
    "        v = queue.popleft()\n",
    "        result.append(v)\n",
    "        \n",
    "        adjacent = graph.neighbours(v)\n",
    "        for a in adjacent:\n",
    "            if not used[a]:\n",
    "                queue.append(a)\n",
    "                used[a] = True\n",
    "    \n",
    "    return result"
   ]
  },
  {
   "cell_type": "code",
   "execution_count": 46,
   "id": "e4a85201",
   "metadata": {},
   "outputs": [],
   "source": [
    "def DFS(graph):\n",
    "    result = []\n",
    "    used = [False] * graph.size()\n",
    "    stack = deque([0])\n",
    "    \n",
    "    while len(stack) != 0:\n",
    "        v = stack.pop()\n",
    "        \n",
    "        if used[v]:\n",
    "            continue\n",
    "            \n",
    "        result.append(v)\n",
    "        used[v] = True\n",
    "        \n",
    "        adjacent = graph.neighbours(v)\n",
    "        for i in range(len(adjacent) - 1, -1, -1):\n",
    "            a = adjacent[i]\n",
    "            if not used[a]:\n",
    "                stack.append(a)\n",
    "    \n",
    "    return result"
   ]
  },
  {
   "cell_type": "code",
   "execution_count": 26,
   "id": "98677e32",
   "metadata": {},
   "outputs": [
    {
     "name": "stdout",
     "output_type": "stream",
     "text": [
      "34\n"
     ]
    }
   ],
   "source": [
    "graph = AnotherGraph()\n",
    "url = 'https://courses.cs.ut.ee/MTAT.03.238/2020_fall/uploads/Main/dataset_bfsdfs.txt'\n",
    "\n",
    "with urllib.request.urlopen(url) as file:\n",
    "    graph.parse(file)\n",
    "\n",
    "print(graph.size())"
   ]
  },
  {
   "cell_type": "code",
   "execution_count": 27,
   "id": "5eb74649",
   "metadata": {},
   "outputs": [
    {
     "name": "stdout",
     "output_type": "stream",
     "text": [
      "[0, 1, 2, 3, 4, 5, 6, 7, 8, 10, 11, 12, 13, 17, 19, 21, 31, 30, 9, 27, 28, 32, 16, 33, 24, 25, 23, 14, 15, 18, 20, 22, 29, 26]\n"
     ]
    }
   ],
   "source": [
    "print(BFS(graph))"
   ]
  },
  {
   "cell_type": "code",
   "execution_count": 47,
   "id": "ff3e606e",
   "metadata": {},
   "outputs": [
    {
     "name": "stdout",
     "output_type": "stream",
     "text": [
      "[0, 1, 2, 3, 7, 12, 13, 33, 8, 30, 32, 14, 15, 18, 20, 22, 23, 25, 24, 27, 31, 28, 29, 26, 9, 19, 17, 21, 4, 6, 5, 10, 16, 11]\n"
     ]
    }
   ],
   "source": [
    "print(DFS(graph))"
   ]
  },
  {
   "cell_type": "markdown",
   "id": "da1a4252",
   "metadata": {},
   "source": [
    "Let's use <a href='https://github.com/PuuraJ/AdvancedAlgorithmics/blob/master/graph_task_visualiser.py'>graph visualisation code</a> to generate input for <a href='https://abercus.github.io/searchvis/'>graph visualisation tool</a>."
   ]
  },
  {
   "cell_type": "code",
   "execution_count": 49,
   "id": "7f46675f",
   "metadata": {},
   "outputs": [
    {
     "name": "stdout",
     "output_type": "stream",
     "text": [
      "line 652 396 742 479 1 blue\n",
      "line 652 396 502 536 1 blue\n",
      "line 652 396 462 411 1 blue\n",
      "line 652 396 896 298 1 blue\n",
      "line 652 396 617 198 1 blue\n",
      "line 652 396 756 212 1 blue\n",
      "line 652 396 539 372 1 blue\n",
      "line 652 396 660 603 1 blue\n",
      "line 652 396 769 267 1 blue\n",
      "line 652 396 478 222 1 blue\n",
      "line 652 396 390 272 1 blue\n",
      "line 652 396 616 548 1 blue\n",
      "line 652 396 950 450 1 blue\n",
      "line 652 396 753 592 1 blue\n",
      "line 652 396 921 390 1 blue\n",
      "line 652 396 402 536 1 blue\n",
      "line 742 479 652 396 1 blue\n",
      "line 742 479 502 536 1 blue\n",
      "line 742 479 462 411 1 blue\n",
      "line 742 479 539 372 1 blue\n",
      "line 742 479 616 548 1 blue\n",
      "line 742 479 950 450 1 blue\n",
      "line 742 479 753 592 1 blue\n",
      "line 742 479 921 390 1 blue\n",
      "line 742 479 764 691 1 blue\n",
      "line 502 536 652 396 1 blue\n",
      "line 502 536 742 479 1 blue\n",
      "line 502 536 462 411 1 blue\n",
      "line 502 536 539 372 1 blue\n",
      "line 502 536 660 603 1 blue\n",
      "line 502 536 372 671 1 blue\n",
      "line 502 536 616 548 1 blue\n",
      "line 502 536 260 626 1 blue\n",
      "line 502 536 315 605 1 blue\n",
      "line 502 536 542 744 1 blue\n",
      "line 462 411 652 396 1 blue\n",
      "line 462 411 742 479 1 blue\n",
      "line 462 411 502 536 1 blue\n",
      "line 462 411 539 372 1 blue\n",
      "line 462 411 390 272 1 blue\n",
      "line 462 411 616 548 1 blue\n",
      "line 896 298 652 396 1 blue\n",
      "line 896 298 756 212 1 blue\n",
      "line 896 298 769 267 1 blue\n",
      "line 617 198 652 396 1 blue\n",
      "line 617 198 756 212 1 blue\n",
      "line 617 198 769 267 1 blue\n",
      "line 617 198 739 40 1 blue\n",
      "line 756 212 652 396 1 blue\n",
      "line 756 212 896 298 1 blue\n",
      "line 756 212 617 198 1 blue\n",
      "line 756 212 739 40 1 blue\n",
      "line 539 372 652 396 1 blue\n",
      "line 539 372 742 479 1 blue\n",
      "line 539 372 502 536 1 blue\n",
      "line 539 372 462 411 1 blue\n",
      "line 660 603 652 396 1 blue\n",
      "line 660 603 502 536 1 blue\n",
      "line 660 603 764 691 1 blue\n",
      "line 660 603 542 744 1 blue\n",
      "line 660 603 495 729 1 blue\n",
      "line 372 671 502 536 1 blue\n",
      "line 372 671 495 729 1 blue\n",
      "line 769 267 652 396 1 blue\n",
      "line 769 267 896 298 1 blue\n",
      "line 769 267 617 198 1 blue\n",
      "line 478 222 652 396 1 blue\n",
      "line 390 272 652 396 1 blue\n",
      "line 390 272 462 411 1 blue\n",
      "line 616 548 652 396 1 blue\n",
      "line 616 548 742 479 1 blue\n",
      "line 616 548 502 536 1 blue\n",
      "line 616 548 462 411 1 blue\n",
      "line 616 548 495 729 1 blue\n",
      "line 615 893 542 744 1 blue\n",
      "line 615 893 495 729 1 blue\n",
      "line 763 821 542 744 1 blue\n",
      "line 763 821 495 729 1 blue\n",
      "line 739 40 617 198 1 blue\n",
      "line 739 40 756 212 1 blue\n",
      "line 950 450 652 396 1 blue\n",
      "line 950 450 742 479 1 blue\n",
      "line 701 867 542 744 1 blue\n",
      "line 701 867 495 729 1 blue\n",
      "line 753 592 652 396 1 blue\n",
      "line 753 592 742 479 1 blue\n",
      "line 753 592 495 729 1 blue\n",
      "line 451 893 542 744 1 blue\n",
      "line 451 893 495 729 1 blue\n",
      "line 921 390 652 396 1 blue\n",
      "line 921 390 742 479 1 blue\n",
      "line 279 843 542 744 1 blue\n",
      "line 279 843 495 729 1 blue\n",
      "line 222 756 84 582 1 blue\n",
      "line 222 756 260 626 1 blue\n",
      "line 222 756 351 862 1 blue\n",
      "line 222 756 542 744 1 blue\n",
      "line 222 756 495 729 1 blue\n",
      "line 127 469 84 582 1 blue\n",
      "line 127 469 260 626 1 blue\n",
      "line 127 469 402 536 1 blue\n",
      "line 84 582 222 756 1 blue\n",
      "line 84 582 127 469 1 blue\n",
      "line 84 582 402 536 1 blue\n",
      "line 496 950 351 862 1 blue\n",
      "line 496 950 495 729 1 blue\n",
      "line 260 626 502 536 1 blue\n",
      "line 260 626 222 756 1 blue\n",
      "line 260 626 127 469 1 blue\n",
      "line 260 626 495 729 1 blue\n",
      "line 315 605 502 536 1 blue\n",
      "line 315 605 402 536 1 blue\n",
      "line 315 605 495 729 1 blue\n",
      "line 351 862 222 756 1 blue\n",
      "line 351 862 496 950 1 blue\n",
      "line 351 862 542 744 1 blue\n",
      "line 351 862 495 729 1 blue\n",
      "line 764 691 742 479 1 blue\n",
      "line 764 691 660 603 1 blue\n",
      "line 764 691 542 744 1 blue\n",
      "line 764 691 495 729 1 blue\n",
      "line 402 536 652 396 1 blue\n",
      "line 402 536 127 469 1 blue\n",
      "line 402 536 84 582 1 blue\n",
      "line 402 536 315 605 1 blue\n",
      "line 402 536 542 744 1 blue\n",
      "line 402 536 495 729 1 blue\n",
      "line 542 744 502 536 1 blue\n",
      "line 542 744 660 603 1 blue\n",
      "line 542 744 615 893 1 blue\n",
      "line 542 744 763 821 1 blue\n",
      "line 542 744 701 867 1 blue\n",
      "line 542 744 451 893 1 blue\n",
      "line 542 744 279 843 1 blue\n",
      "line 542 744 222 756 1 blue\n",
      "line 542 744 351 862 1 blue\n",
      "line 542 744 764 691 1 blue\n",
      "line 542 744 402 536 1 blue\n",
      "line 542 744 495 729 1 blue\n",
      "line 495 729 660 603 1 blue\n",
      "line 495 729 372 671 1 blue\n",
      "line 495 729 616 548 1 blue\n",
      "line 495 729 615 893 1 blue\n",
      "line 495 729 763 821 1 blue\n",
      "line 495 729 701 867 1 blue\n",
      "line 495 729 753 592 1 blue\n",
      "line 495 729 451 893 1 blue\n",
      "line 495 729 279 843 1 blue\n",
      "line 495 729 222 756 1 blue\n",
      "line 495 729 496 950 1 blue\n",
      "line 495 729 260 626 1 blue\n",
      "line 495 729 315 605 1 blue\n",
      "line 495 729 351 862 1 blue\n",
      "line 495 729 764 691 1 blue\n",
      "line 495 729 402 536 1 blue\n",
      "line 495 729 542 744 1 blue\n",
      "circle 652 396 15 black\n",
      "circle 742 479 15 black\n",
      "circle 502 536 15 black\n",
      "circle 462 411 15 black\n",
      "circle 896 298 15 black\n",
      "circle 617 198 15 black\n",
      "circle 756 212 15 black\n",
      "circle 539 372 15 black\n",
      "circle 660 603 15 black\n",
      "circle 372 671 15 black\n",
      "circle 769 267 15 black\n",
      "circle 478 222 15 black\n",
      "circle 390 272 15 black\n",
      "circle 616 548 15 black\n",
      "circle 615 893 15 black\n",
      "circle 763 821 15 black\n",
      "circle 739 40 15 black\n",
      "circle 950 450 15 black\n",
      "circle 701 867 15 black\n",
      "circle 753 592 15 black\n",
      "circle 451 893 15 black\n",
      "circle 921 390 15 black\n",
      "circle 279 843 15 black\n",
      "circle 222 756 15 black\n",
      "circle 127 469 15 black\n",
      "circle 84 582 15 black\n",
      "circle 496 950 15 black\n",
      "circle 260 626 15 black\n",
      "circle 315 605 15 black\n",
      "circle 351 862 15 black\n",
      "circle 764 691 15 black\n",
      "circle 402 536 15 black\n",
      "circle 542 744 15 black\n",
      "circle 495 729 15 black\n",
      "text \"0\" 644 404 18 orange\n",
      "text \"1\" 734 487 18 orange\n",
      "text \"2\" 494 544 18 orange\n",
      "text \"3\" 454 419 18 orange\n",
      "text \"4\" 888 306 18 orange\n",
      "text \"5\" 609 206 18 orange\n",
      "text \"6\" 748 220 18 orange\n",
      "text \"7\" 531 380 18 orange\n",
      "text \"8\" 652 611 18 orange\n",
      "text \"9\" 364 679 18 orange\n",
      "text \"10\" 761 275 18 orange\n",
      "text \"11\" 470 230 18 orange\n",
      "text \"12\" 382 280 18 orange\n",
      "text \"13\" 608 556 18 orange\n",
      "text \"14\" 607 901 18 orange\n",
      "text \"15\" 755 829 18 orange\n",
      "text \"16\" 731 48 18 orange\n",
      "text \"17\" 942 458 18 orange\n",
      "text \"18\" 693 875 18 orange\n",
      "text \"19\" 745 600 18 orange\n",
      "text \"20\" 443 901 18 orange\n",
      "text \"21\" 913 398 18 orange\n",
      "text \"22\" 271 851 18 orange\n",
      "text \"23\" 214 764 18 orange\n",
      "text \"24\" 119 477 18 orange\n",
      "text \"25\" 76 590 18 orange\n",
      "text \"26\" 488 958 18 orange\n",
      "text \"27\" 252 634 18 orange\n",
      "text \"28\" 307 613 18 orange\n",
      "text \"29\" 343 870 18 orange\n",
      "text \"30\" 756 699 18 orange\n",
      "text \"31\" 394 544 18 orange\n",
      "text \"32\" 534 752 18 orange\n",
      "text \"33\" 487 737 18 orange\n",
      "text \"0\" 670 404 18 darkred\n",
      "text \"1\" 760 487 18 darkred\n",
      "text \"2\" 520 544 18 darkred\n",
      "text \"3\" 480 419 18 darkred\n",
      "text \"4\" 557 380 18 darkred\n",
      "text \"5\" 408 280 18 darkred\n",
      "text \"6\" 634 556 18 darkred\n",
      "text \"7\" 513 737 18 darkred\n",
      "text \"8\" 678 611 18 darkred\n",
      "text \"9\" 782 699 18 darkred\n",
      "text \"10\" 560 752 18 darkred\n",
      "text \"11\" 633 901 18 darkred\n",
      "text \"12\" 781 829 18 darkred\n",
      "text \"13\" 719 875 18 darkred\n",
      "text \"14\" 469 901 18 darkred\n",
      "text \"15\" 297 851 18 darkred\n",
      "text \"16\" 240 764 18 darkred\n",
      "text \"17\" 102 590 18 darkred\n",
      "text \"18\" 145 477 18 darkred\n",
      "text \"19\" 278 634 18 darkred\n",
      "text \"20\" 420 544 18 darkred\n",
      "text \"21\" 333 613 18 darkred\n",
      "text \"22\" 369 870 18 darkred\n",
      "text \"23\" 514 958 18 darkred\n",
      "text \"24\" 390 679 18 darkred\n",
      "text \"25\" 771 600 18 darkred\n",
      "text \"26\" 968 458 18 darkred\n",
      "text \"27\" 939 398 18 darkred\n",
      "text \"28\" 914 306 18 darkred\n",
      "text \"29\" 774 220 18 darkred\n",
      "text \"30\" 635 206 18 darkred\n",
      "text \"31\" 787 275 18 darkred\n",
      "text \"32\" 757 48 18 darkred\n",
      "text \"33\" 496 230 18 darkred\n"
     ]
    }
   ],
   "source": [
    "### Drawing parameters ###\n",
    "# Edge width and color\n",
    "edge_width = 1\n",
    "edge_color = \"blue\"\n",
    "\n",
    "# Node radius and color\n",
    "node_radius = 15\n",
    "node_color = \"black\"\n",
    "\n",
    "# Text size and color\n",
    "text_color = \"orange\"\n",
    "text_size = 18\n",
    "\n",
    "# Traversal text size and color\n",
    "trav_color = \"darkred\"\n",
    "trav_size = 18\n",
    "\n",
    "# Create edges input for tool\n",
    "for i in range(len(graph.adjacent)):\n",
    "    for j in graph.adjacent[i]:\n",
    "        print(f\"line {graph.coordinates[i][0]} {graph.coordinates[i][1]}\"\\\n",
    "              f\" {graph.coordinates[j][0]} {graph.coordinates[j][1]} {edge_width} {edge_color}\")\n",
    "        \n",
    "\n",
    "# Create vertices input for tool\n",
    "for i in range(len(graph.adjacent)):\n",
    "    print(f\"circle {graph.coordinates[i][0]} {graph.coordinates[i][1]} {node_radius} {node_color}\")\n",
    "\n",
    "# Add text on top of vertices\n",
    "for i in range(len(graph.adjacent)):\n",
    "    print(f'text \"{i}\" {graph.coordinates[i][0]-8} {graph.coordinates[i][1]+8} {text_size} {text_color}')\n",
    "\n",
    "# Add order of traversal\n",
    "bfs = [0, 1, 2, 3, 4, 5, 6, 7, 8, 10, 11, 12, 13, 17, 19, 21, 31, 30, 9, 27, 28, 32, 16, 33, 24, 25, 23, \n",
    "       14, 15, 18, 20, 22, 29, 26]\n",
    "dfs = [0, 1, 2, 3, 7, 12, 13, 33, 8, 30, 32, 14, 15, 18, 20, 22, 23, 25, 24, 27, 31, 28, 29, 26, 9, 19, \n",
    "       17, 21, 4, 6, 5, 10, 16, 11]\n",
    "\n",
    "# i is the order #, k is the vertex id.\n",
    "for i, k in enumerate(dfs):\n",
    "    print(f'text \"{i}\" {graph.coordinates[k][0]+18} {graph.coordinates[k][1]+8} {trav_size} {trav_color}')"
   ]
  },
  {
   "cell_type": "markdown",
   "id": "e3e1ae80",
   "metadata": {},
   "source": [
    "<table>\n",
    "    <tr>\n",
    "        <th style=\"text-align:center\">BFS</th>\n",
    "    </tr>\n",
    "    <tr>\n",
    "        <td><img src=\"bfs.png\"></td>\n",
    "     </tr>\n",
    "</table>"
   ]
  },
  {
   "cell_type": "markdown",
   "id": "c244c48c",
   "metadata": {},
   "source": [
    "<table>\n",
    "    <tr>\n",
    "        <th style=\"text-align:center\">DFS</th>\n",
    "    </tr>\n",
    "    <tr>\n",
    "        <td><img src=\"dfs.png\"></td>\n",
    "     </tr>\n",
    "</table>"
   ]
  },
  {
   "cell_type": "markdown",
   "id": "c86b7a56",
   "metadata": {},
   "source": [
    "## Exercise 3"
   ]
  },
  {
   "cell_type": "markdown",
   "id": "374d81b3",
   "metadata": {},
   "source": [
    "<img src='https://courses.cs.ut.ee/2022/algorithmics/uploads/Main/directed_graph.png'></img>"
   ]
  },
  {
   "cell_type": "markdown",
   "id": "da5e14e9",
   "metadata": {},
   "source": [
    "The task requires connecting \"only vertices that are reachable in 3 steps of [sic] the original graph\". Let's interpret that as connecting vertices with every vertex that can be reached from the current one **precisely** in 3 steps (vertices repetition allowed)."
   ]
  },
  {
   "cell_type": "code",
   "execution_count": 168,
   "id": "2d7d52b4",
   "metadata": {},
   "outputs": [],
   "source": [
    "class DirectedGraph:\n",
    "    \n",
    "    def __init__(self, vertices, matrix):\n",
    "        self.vertices = vertices\n",
    "        self.adjacent = [[] for _ in range(len(matrix))]\n",
    "        \n",
    "        for i in range(len(matrix)):\n",
    "            for j in range(len(matrix)):\n",
    "                if i != j and matrix[i][j]:\n",
    "                    self.adjacent[i].append(j)\n",
    "    \n",
    "    def __repr__(self):\n",
    "        string = ''\n",
    "        \n",
    "        for i in range(len(self.adjacent)):\n",
    "            string += f\"{self.vertices[i]}: {', '.join([self.vertices[j] for j in self.adjacent[i]])}\\n\"\n",
    "        \n",
    "        return string"
   ]
  },
  {
   "cell_type": "code",
   "execution_count": 173,
   "id": "a45eb5ad",
   "metadata": {},
   "outputs": [],
   "source": [
    "def threehop(matrix):\n",
    "    result = [[False] * len(matrix) for _ in range(len(matrix))]\n",
    "    for i in range(len(matrix)):\n",
    "        threehop_recursive(i, i, 1, matrix, result)\n",
    "    return result\n",
    "\n",
    "\n",
    "def threehop_recursive(from_, to_, depth, original, result):\n",
    "    for i in range(len(original)):\n",
    "        if i != to_ and original[to_][i]:\n",
    "            if depth == 3:\n",
    "                result[from_][i] = True\n",
    "            else:\n",
    "                threehop_recursive(from_, i, depth + 1, original, result)"
   ]
  },
  {
   "cell_type": "markdown",
   "id": "5467b4a0",
   "metadata": {},
   "source": [
    "Let's convert the given picture into adjacency matrix by hand, build a graph by the matrix and display it."
   ]
  },
  {
   "cell_type": "code",
   "execution_count": 174,
   "id": "f875cc33",
   "metadata": {},
   "outputs": [],
   "source": [
    "vertices = ['A', 'B', 'C', 'D', 'E', 'F', 'G', 'H', 'I', 'J', 'K']\n",
    "matrix = [[1, 1, 0, 0, 0, 1, 0, 0, 0, 0, 0],\n",
    "         [0, 1, 0, 0, 0, 0, 0, 0, 0, 0, 0],\n",
    "         [0, 1, 1, 0, 1, 0, 1, 0, 0, 0, 0],\n",
    "         [0, 0, 1, 1, 0, 0, 0, 0, 0, 0, 0],\n",
    "         [0, 0, 0, 0, 1, 0, 0, 1, 0, 0, 1],\n",
    "         [0, 0, 0, 0, 1, 1, 0, 0, 0, 0, 0],\n",
    "         [0, 0, 0, 0, 1, 0, 1, 0, 0, 1, 0],\n",
    "         [0, 0, 0, 0, 0, 1, 0, 1, 0, 0, 0],\n",
    "         [0, 0, 0, 0, 0, 0, 1, 0, 1, 0, 0],\n",
    "         [0, 0, 0, 0, 0, 0, 0, 0, 1, 1, 0],\n",
    "         [0, 0, 0, 0, 1, 0, 0, 0, 0, 0, 1]]"
   ]
  },
  {
   "cell_type": "code",
   "execution_count": 175,
   "id": "d60834ab",
   "metadata": {},
   "outputs": [
    {
     "name": "stdout",
     "output_type": "stream",
     "text": [
      "A: B, F\n",
      "B: \n",
      "C: B, E, G\n",
      "D: C\n",
      "E: H, K\n",
      "F: E\n",
      "G: E, J\n",
      "H: F\n",
      "I: G\n",
      "J: I\n",
      "K: E\n",
      "\n"
     ]
    }
   ],
   "source": [
    "graph = DirectedGraph(vertices, matrix)\n",
    "print(graph)"
   ]
  },
  {
   "cell_type": "markdown",
   "id": "b084d5b7",
   "metadata": {},
   "source": [
    "The graph is correct.  \n",
    "  \n",
    "Let's do the 3-hop modification."
   ]
  },
  {
   "cell_type": "code",
   "execution_count": 176,
   "id": "41c56651",
   "metadata": {},
   "outputs": [
    {
     "name": "stdout",
     "output_type": "stream",
     "text": [
      "A: H, K\n",
      "B: \n",
      "C: E, F, H, I, K\n",
      "D: E, H, J, K\n",
      "E: H, K\n",
      "F: E\n",
      "G: E, F\n",
      "H: K\n",
      "I: H, K\n",
      "J: E\n",
      "K: E, F\n",
      "\n"
     ]
    }
   ],
   "source": [
    "modified = threehop(matrix)\n",
    "new_graph = DirectedGraph(vertices, modified)\n",
    "print(new_graph)"
   ]
  },
  {
   "cell_type": "markdown",
   "id": "7718bcc3",
   "metadata": {},
   "source": [
    "## Exercise 4"
   ]
  },
  {
   "cell_type": "code",
   "execution_count": 119,
   "id": "73fb778d",
   "metadata": {},
   "outputs": [],
   "source": [
    "def copy_matrix(matrix):\n",
    "    result = [[False] * len(matrix) for _ in range(len(matrix))]\n",
    "    for i in range(len(matrix)):\n",
    "        for j in range(len(matrix)):\n",
    "            result[i][j] = matrix[i][j]\n",
    "    return result"
   ]
  },
  {
   "cell_type": "code",
   "execution_count": 177,
   "id": "5c96b856",
   "metadata": {},
   "outputs": [],
   "source": [
    "def closure_by_powering(matrix):\n",
    "    result = copy_matrix(matrix)\n",
    "    \n",
    "    result = np.linalg.matrix_power(result, len(result))\n",
    "    \n",
    "    for i in range(len(result)):\n",
    "        for j in range(len(result)):\n",
    "            result[i][j] = result[i][j] > 0\n",
    "    \n",
    "    return result"
   ]
  },
  {
   "cell_type": "code",
   "execution_count": 178,
   "id": "ca69b60a",
   "metadata": {},
   "outputs": [],
   "source": [
    "def floyd_warshall(matrix):\n",
    "    result = copy_matrix(matrix)\n",
    "    \n",
    "    for k in range(len(result)):\n",
    "        for i in range(len(result)):\n",
    "            for j in range(len(result)):\n",
    "                result[i][j] = result[i][j] or (result[i][k] and result[k][j])\n",
    "                \n",
    "    return result"
   ]
  },
  {
   "cell_type": "code",
   "execution_count": 179,
   "id": "9089be59",
   "metadata": {},
   "outputs": [
    {
     "name": "stdout",
     "output_type": "stream",
     "text": [
      "[1 1 0 0 1 1 0 1 0 0 1]\n",
      "[0 1 0 0 0 0 0 0 0 0 0]\n",
      "[0 1 1 0 1 1 1 1 1 1 1]\n",
      "[0 1 1 1 1 1 1 1 1 1 1]\n",
      "[0 0 0 0 1 1 0 1 0 0 1]\n",
      "[0 0 0 0 1 1 0 1 0 0 1]\n",
      "[0 0 0 0 1 1 1 1 1 1 1]\n",
      "[0 0 0 0 1 1 0 1 0 0 1]\n",
      "[0 0 0 0 1 1 1 1 1 1 1]\n",
      "[0 0 0 0 1 1 1 1 1 1 1]\n",
      "[0 0 0 0 1 1 0 1 0 0 1]\n",
      "\n",
      "A: B, E, F, H, K\n",
      "B: \n",
      "C: B, E, F, G, H, I, J, K\n",
      "D: B, C, E, F, G, H, I, J, K\n",
      "E: F, H, K\n",
      "F: E, H, K\n",
      "G: E, F, H, I, J, K\n",
      "H: E, F, K\n",
      "I: E, F, G, H, J, K\n",
      "J: E, F, G, H, I, K\n",
      "K: E, F, H\n",
      "\n"
     ]
    }
   ],
   "source": [
    "powering_result = closure_by_powering(matrix)\n",
    "print('\\n'.join(str(row) for row in powering_result))\n",
    "\n",
    "powering_graph = DirectedGraph(vertices, powering_result)\n",
    "print()\n",
    "print(powering_graph)"
   ]
  },
  {
   "cell_type": "code",
   "execution_count": 180,
   "id": "aee47b92",
   "metadata": {},
   "outputs": [
    {
     "name": "stdout",
     "output_type": "stream",
     "text": [
      "[1, 1, 0, 0, 1, 1, 0, 1, 0, 0, 1]\n",
      "[0, 1, 0, 0, 0, 0, 0, 0, 0, 0, 0]\n",
      "[0, 1, 1, 0, 1, 1, 1, 1, 1, 1, 1]\n",
      "[0, 1, 1, 1, 1, 1, 1, 1, 1, 1, 1]\n",
      "[0, 0, 0, 0, 1, 1, 0, 1, 0, 0, 1]\n",
      "[0, 0, 0, 0, 1, 1, 0, 1, 0, 0, 1]\n",
      "[0, 0, 0, 0, 1, 1, 1, 1, 1, 1, 1]\n",
      "[0, 0, 0, 0, 1, 1, 0, 1, 0, 0, 1]\n",
      "[0, 0, 0, 0, 1, 1, 1, 1, 1, 1, 1]\n",
      "[0, 0, 0, 0, 1, 1, 1, 1, 1, 1, 1]\n",
      "[0, 0, 0, 0, 1, 1, 0, 1, 0, 0, 1]\n",
      "\n",
      "A: B, E, F, H, K\n",
      "B: \n",
      "C: B, E, F, G, H, I, J, K\n",
      "D: B, C, E, F, G, H, I, J, K\n",
      "E: F, H, K\n",
      "F: E, H, K\n",
      "G: E, F, H, I, J, K\n",
      "H: E, F, K\n",
      "I: E, F, G, H, J, K\n",
      "J: E, F, G, H, I, K\n",
      "K: E, F, H\n",
      "\n"
     ]
    }
   ],
   "source": [
    "warshall_result = floyd_warshall(matrix)\n",
    "print('\\n'.join(str(row) for row in warshall_result))\n",
    "\n",
    "warshall_graph = DirectedGraph(vertices, warshall_result)\n",
    "print()\n",
    "print(warshall_graph)"
   ]
  },
  {
   "cell_type": "code",
   "execution_count": 183,
   "id": "e7f84e7f",
   "metadata": {},
   "outputs": [
    {
     "name": "stdout",
     "output_type": "stream",
     "text": [
      "True\n"
     ]
    }
   ],
   "source": [
    "print((powering_result == warshall_result).all())"
   ]
  },
  {
   "cell_type": "markdown",
   "id": "3118edf5",
   "metadata": {},
   "source": [
    "## Exercise 5"
   ]
  },
  {
   "cell_type": "markdown",
   "id": "d95cb63c",
   "metadata": {},
   "source": [
    "<img src='https://courses.cs.ut.ee/2022/algorithmics/uploads/Main/directed_graph.png'></img>"
   ]
  },
  {
   "cell_type": "code",
   "execution_count": 184,
   "id": "19b0fe1f",
   "metadata": {},
   "outputs": [],
   "source": [
    "import random"
   ]
  },
  {
   "cell_type": "code",
   "execution_count": 205,
   "id": "93c1a308",
   "metadata": {},
   "outputs": [],
   "source": [
    "class ReappearingStrategy:\n",
    "    @staticmethod\n",
    "    def next(graph, current):\n",
    "        if len(graph.adjacent[current]) == 0:\n",
    "            return random.randint(0, len(graph.adjacent) - 1)\n",
    "        return random.choice(graph.adjacent[current])\n",
    "\n",
    "\n",
    "class RandomJumpStrategy:\n",
    "    @staticmethod\n",
    "    def next(graph, current):\n",
    "        p = random.randint(1, 5)\n",
    "        if p == 1:\n",
    "            return random.randint(0, len(graph.adjacent) - 1)\n",
    "        if len(graph.adjacent[current]) == 0:\n",
    "            return current\n",
    "        return random.choice(graph.adjacent[current])"
   ]
  },
  {
   "cell_type": "code",
   "execution_count": 206,
   "id": "572af5cf",
   "metadata": {},
   "outputs": [],
   "source": [
    "def random_walk(graph, iterations, strategy, initial='A'):\n",
    "    counts = np.zeros(len(graph.adjacent))\n",
    "    current = graph.vertices.index(initial)\n",
    "    counts[current] += 1\n",
    "    \n",
    "    for _ in range(iterations):\n",
    "        current = strategy.next(graph, current)\n",
    "        counts[current] += 1\n",
    "    \n",
    "    return counts / iterations"
   ]
  },
  {
   "cell_type": "markdown",
   "id": "e694e1ad",
   "metadata": {},
   "source": [
    "### Random Reappearing"
   ]
  },
  {
   "cell_type": "code",
   "execution_count": 210,
   "id": "dd2891e9",
   "metadata": {},
   "outputs": [
    {
     "name": "stdout",
     "output_type": "stream",
     "text": [
      "A: 0.0\n",
      "B: 0.0\n",
      "C: 0.0\n",
      "D: 0.0\n",
      "E: 0.403\n",
      "F: 0.196\n",
      "G: 0.0\n",
      "H: 0.196\n",
      "I: 0.0\n",
      "J: 0.0\n",
      "K: 0.206\n"
     ]
    }
   ],
   "source": [
    "probabilities = random_walk(graph, 1000, ReappearingStrategy, 'E')\n",
    "for i in range(len(probabilities)):\n",
    "    print(f\"{graph.vertices[i]}: {probabilities[i]}\")"
   ]
  },
  {
   "cell_type": "markdown",
   "id": "68dcf470",
   "metadata": {},
   "source": [
    "Here, we initially appear at vertex E and therefore get stuck in circuit F -> E -> K -> E -> H, thus completely ignoring other vertices."
   ]
  },
  {
   "cell_type": "code",
   "execution_count": 219,
   "id": "8840880f",
   "metadata": {},
   "outputs": [
    {
     "name": "stdout",
     "output_type": "stream",
     "text": [
      "A: 0.0\n",
      "B: 0.001\n",
      "C: 0.0\n",
      "D: 0.0\n",
      "E: 0.408\n",
      "F: 0.184\n",
      "G: 0.001\n",
      "H: 0.184\n",
      "I: 0.0\n",
      "J: 0.0\n",
      "K: 0.223\n"
     ]
    }
   ],
   "source": [
    "probabilities = random_walk(graph, 1000, ReappearingStrategy, 'B')\n",
    "for i in range(len(probabilities)):\n",
    "    print(f\"{graph.vertices[i]}: {probabilities[i]}\")"
   ]
  },
  {
   "cell_type": "markdown",
   "id": "ea322467",
   "metadata": {},
   "source": [
    "Here, we initially appear at vertex B and then get randomly spawned into the same circuit. Again, many vertices stay unvisited."
   ]
  },
  {
   "cell_type": "markdown",
   "id": "95e62b9d",
   "metadata": {},
   "source": [
    "Let's try to start the walk from every vertex of the graph and calculate the average probabilities of appearing at the vertices for 1000 iterations."
   ]
  },
  {
   "cell_type": "code",
   "execution_count": 217,
   "id": "d301d057",
   "metadata": {},
   "outputs": [
    {
     "name": "stdout",
     "output_type": "stream",
     "text": [
      "A: 9e-05\n",
      "B: 9e-05\n",
      "C: 0.00018\n",
      "D: 9e-05\n",
      "E: 0.39891\n",
      "F: 0.20027\n",
      "G: 0.00109\n",
      "H: 0.20018\n",
      "I: 0.00091\n",
      "J: 0.00073\n",
      "K: 0.19845\n"
     ]
    }
   ],
   "source": [
    "results = []\n",
    "\n",
    "for v in graph.vertices:\n",
    "    results.append(random_walk(graph, 1000, ReappearingStrategy, v))    \n",
    "means = np.mean(results, axis=0)\n",
    "\n",
    "for i in range(len(means)):\n",
    "    print(f\"{graph.vertices[i]}: {round(means[i], 5)}\")"
   ]
  },
  {
   "cell_type": "markdown",
   "id": "a3b73206",
   "metadata": {},
   "source": [
    "From the statistics it follows that the most important vertex is E. It has the biggest number of incoming edges and is a center of several circuits."
   ]
  },
  {
   "cell_type": "markdown",
   "id": "2203eaba",
   "metadata": {},
   "source": [
    "### Random Jumps"
   ]
  },
  {
   "cell_type": "code",
   "execution_count": 220,
   "id": "048d5fe8",
   "metadata": {},
   "outputs": [
    {
     "name": "stdout",
     "output_type": "stream",
     "text": [
      "A: 0.02\n",
      "B: 0.182\n",
      "C: 0.032\n",
      "D: 0.018\n",
      "E: 0.238\n",
      "F: 0.099\n",
      "G: 0.079\n",
      "H: 0.098\n",
      "I: 0.064\n",
      "J: 0.052\n",
      "K: 0.119\n"
     ]
    }
   ],
   "source": [
    "probabilities = random_walk(graph, 1000, RandomJumpStrategy)\n",
    "for i in range(len(probabilities)):\n",
    "    print(f\"{graph.vertices[i]}: {probabilities[i]}\")"
   ]
  },
  {
   "cell_type": "markdown",
   "id": "7749426b",
   "metadata": {},
   "source": [
    "Now, that we use random jumps with 20% probability, we eventually end up visiting every vertex. Vertex E still has the greatest probability of visiting for the same reasons as before."
   ]
  },
  {
   "cell_type": "code",
   "execution_count": 221,
   "id": "c0329f2c",
   "metadata": {},
   "outputs": [
    {
     "name": "stdout",
     "output_type": "stream",
     "text": [
      "A: 0.01727\n",
      "B: 0.15109\n",
      "C: 0.03327\n",
      "D: 0.017\n",
      "E: 0.24673\n",
      "F: 0.12082\n",
      "G: 0.07327\n",
      "H: 0.11818\n",
      "I: 0.05709\n",
      "J: 0.04891\n",
      "K: 0.11736\n"
     ]
    }
   ],
   "source": [
    "results = []\n",
    "\n",
    "for v in graph.vertices:\n",
    "    results.append(random_walk(graph, 1000, RandomJumpStrategy, v))    \n",
    "means = np.mean(results, axis=0)\n",
    "\n",
    "for i in range(len(means)):\n",
    "    print(f\"{graph.vertices[i]}: {round(means[i], 5)}\")"
   ]
  },
  {
   "cell_type": "markdown",
   "id": "981a79ca",
   "metadata": {},
   "source": [
    "Even for the average probabilities, when starting from every vertex, the results are the same. The probability of picking B grew up significantly due to the drawback of the strategy: when appeared at dead end, we continue visiting the same vertex until we get 20% chance to escape the dead end."
   ]
  },
  {
   "cell_type": "markdown",
   "id": "d2076d57",
   "metadata": {},
   "source": [
    "## Exercise 7"
   ]
  },
  {
   "cell_type": "markdown",
   "id": "a06e6d90",
   "metadata": {},
   "source": [
    "I have no clue whether I did this task as it was supposed to be done, so it's a submission for luck. Should we really use graphs here?..."
   ]
  },
  {
   "cell_type": "markdown",
   "id": "e5f31709",
   "metadata": {},
   "source": [
    "Let's implement class for game."
   ]
  },
  {
   "cell_type": "code",
   "execution_count": 226,
   "id": "da9ac090",
   "metadata": {},
   "outputs": [],
   "source": [
    "import copy"
   ]
  },
  {
   "cell_type": "code",
   "execution_count": 262,
   "id": "cc7c7091",
   "metadata": {},
   "outputs": [],
   "source": [
    "class Game:\n",
    "    \n",
    "    def __init__(self, size):\n",
    "        self.board = np.full((size, size), '.')\n",
    "        self.target = (-1, -1)\n",
    "        \n",
    "    def add_obstacle(self, i, j):\n",
    "        self.board[i][j] = '#'\n",
    "    \n",
    "    def add_slider(self, i, j):\n",
    "        self.board[i][j] = 'o'\n",
    "    \n",
    "    def set_target(self, i, j):\n",
    "        self.target = (i, j)\n",
    "        \n",
    "    def copy(self):\n",
    "        copy_ = Game(0)\n",
    "        copy_.board = copy.deepcopy(self.board)\n",
    "        copy_.target = self.target\n",
    "        \n",
    "        return copy_\n",
    "        \n",
    "    def move_left(self):\n",
    "        for i in range(len(self.board)):\n",
    "            free = (-1, -1)\n",
    "            \n",
    "            for j in range(len(self.board)):\n",
    "                if self.board[i][j] == '.':\n",
    "                    if free == (-1, -1):\n",
    "                        free = (i, j)\n",
    "                elif self.board[i][j] == '#':\n",
    "                    free = (-1, -1)\n",
    "                elif self.board[i][j] == 'o':\n",
    "                    if free != (-1, -1):\n",
    "                        self.board[free] = 'o'\n",
    "                        self.board[i][j] = '.'\n",
    "                        free = (free[0], free[1] + 1)\n",
    "        \n",
    "    def move_right(self):\n",
    "        for i in range(len(self.board)):\n",
    "            free = (-1, -1)\n",
    "            \n",
    "            for j in range(len(self.board) - 1, -1, -1):\n",
    "                if self.board[i][j] == '.':\n",
    "                    if free == (-1, -1):\n",
    "                        free = (i, j)\n",
    "                elif self.board[i][j] == '#':\n",
    "                    free = (-1, -1)\n",
    "                elif self.board[i][j] == 'o':\n",
    "                    if free != (-1, -1):\n",
    "                        self.board[free] = 'o'\n",
    "                        self.board[i][j] = '.'\n",
    "                        free = (free[0], free[1] - 1)\n",
    "                        \n",
    "    def move_up(self):\n",
    "        for j in range(len(self.board)):\n",
    "            free = (-1, -1)\n",
    "            \n",
    "            for i in range(len(self.board)):\n",
    "                if self.board[i][j] == '.':\n",
    "                    if free == (-1, -1):\n",
    "                        free = (i, j)\n",
    "                elif self.board[i][j] == '#':\n",
    "                    free = (-1, -1)\n",
    "                elif self.board[i][j] == 'o':\n",
    "                    if free != (-1, -1):\n",
    "                        self.board[free] = 'o'\n",
    "                        self.board[i][j] = '.'\n",
    "                        free = (free[0] + 1, free[1])\n",
    "    \n",
    "    def move_down(self):\n",
    "        for j in range(len(self.board)):\n",
    "            free = (-1, -1)\n",
    "            \n",
    "            for i in range(len(self.board) - 1, -1, -1):\n",
    "                if self.board[i][j] == '.':\n",
    "                    if free == (-1, -1):\n",
    "                        free = (i, j)\n",
    "                elif self.board[i][j] == '#':\n",
    "                    free = (-1, -1)\n",
    "                elif self.board[i][j] == 'o':\n",
    "                    if free != (-1, -1):\n",
    "                        self.board[free] = 'o'\n",
    "                        self.board[i][j] = '.'\n",
    "                        free = (free[0] - 1, free[1])\n",
    "    \n",
    "    def gameover(self):\n",
    "        return self.target != (-1, -1) and self.board[self.target] == 'o'\n",
    "    \n",
    "    def __repr__(self):\n",
    "        string = 'BOARD\\n\\n'\n",
    "        for row in self.board:\n",
    "            string += ''.join(row) + '\\n'\n",
    "        return string"
   ]
  },
  {
   "cell_type": "markdown",
   "id": "47cdb224",
   "metadata": {},
   "source": [
    "Let's check whether it works right."
   ]
  },
  {
   "cell_type": "code",
   "execution_count": 252,
   "id": "3d71abae",
   "metadata": {},
   "outputs": [],
   "source": [
    "def set_game():\n",
    "    game = Game(5)\n",
    "\n",
    "    game.add_obstacle(0, 1)\n",
    "    game.add_obstacle(1, 1)\n",
    "    game.add_obstacle(4, 2)\n",
    "\n",
    "    game.add_slider(0, 0)\n",
    "    game.add_slider(4, 0)\n",
    "\n",
    "    game.set_target(2, 2)\n",
    "    \n",
    "    return game"
   ]
  },
  {
   "cell_type": "code",
   "execution_count": 253,
   "id": "acb8a71f",
   "metadata": {},
   "outputs": [
    {
     "name": "stdout",
     "output_type": "stream",
     "text": [
      "BOARD\n",
      "\n",
      "o#...\n",
      ".#...\n",
      ".....\n",
      ".....\n",
      "o.#..\n",
      "\n"
     ]
    }
   ],
   "source": [
    "game = set_game()\n",
    "\n",
    "print(game)"
   ]
  },
  {
   "cell_type": "code",
   "execution_count": 254,
   "id": "83d10cfd",
   "metadata": {},
   "outputs": [
    {
     "name": "stdout",
     "output_type": "stream",
     "text": [
      "BOARD\n",
      "\n",
      ".#...\n",
      ".#...\n",
      ".....\n",
      "o....\n",
      "o.#..\n",
      "\n"
     ]
    }
   ],
   "source": [
    "game.move_down()\n",
    "print(game)"
   ]
  },
  {
   "cell_type": "code",
   "execution_count": 255,
   "id": "c01da072",
   "metadata": {},
   "outputs": [
    {
     "name": "stdout",
     "output_type": "stream",
     "text": [
      "BOARD\n",
      "\n",
      ".#...\n",
      ".#...\n",
      ".....\n",
      "....o\n",
      ".o#..\n",
      "\n"
     ]
    }
   ],
   "source": [
    "game.move_right()\n",
    "print(game)"
   ]
  },
  {
   "cell_type": "markdown",
   "id": "48365d36",
   "metadata": {},
   "source": [
    "OK, now let's implement the tree of states. We will find the best solution via this tree."
   ]
  },
  {
   "cell_type": "code",
   "execution_count": 272,
   "id": "eb903b02",
   "metadata": {},
   "outputs": [],
   "source": [
    "class Node:\n",
    "    \n",
    "    def __init__(self, game):\n",
    "        self.game = game\n",
    "        self.left = None\n",
    "        self.right = None\n",
    "        self.up = None\n",
    "        self.down = None\n",
    "\n",
    "\n",
    "class GameTree:\n",
    "    \n",
    "    def __init__(self, game):\n",
    "        self.root = Node(game.copy())\n",
    "        self.leaves = [self.root]\n",
    "        self.depth = 0\n",
    "        \n",
    "        \n",
    "    def do_step(self):\n",
    "        new_leaves = []\n",
    "        \n",
    "        for leaf in self.leaves:\n",
    "            next_ = leaf.game.copy()\n",
    "            next_.move_left()\n",
    "            leaf.left = Node(next_)\n",
    "            new_leaves.append(leaf.left)\n",
    "            \n",
    "            next_ = leaf.game.copy()\n",
    "            next_.move_right()\n",
    "            leaf.right = Node(next_)\n",
    "            new_leaves.append(leaf.right)\n",
    "            \n",
    "            next_ = leaf.game.copy()\n",
    "            next_.move_up()\n",
    "            leaf.up = Node(next_)\n",
    "            new_leaves.append(leaf.up)\n",
    "            \n",
    "            next_ = leaf.game.copy()\n",
    "            next_.move_down()\n",
    "            leaf.down = Node(next_)\n",
    "            new_leaves.append(leaf.down)\n",
    "        \n",
    "        self.leaves = new_leaves\n",
    "        self.depth += 1\n",
    "        \n",
    "        \n",
    "    def find_path(self, target):\n",
    "        # reverse list\n",
    "        return self.find_path_recursive(target, self.root, [])[::-1]\n",
    "        \n",
    "        \n",
    "    def find_path_recursive(self, target, current, path):\n",
    "        if current is not None:\n",
    "            if current == target:\n",
    "                return path\n",
    "            if self.find_path_recursive(target, current.left, path) is not None:\n",
    "                path.append('left')\n",
    "                return path\n",
    "            if self.find_path_recursive(target, current.right, path) is not None:\n",
    "                path.append('right')\n",
    "                return path\n",
    "            if self.find_path_recursive(target, current.up, path) is not None:\n",
    "                path.append('up')\n",
    "                return path\n",
    "            if self.find_path_recursive(target, current.down, path) is not None:\n",
    "                path.append('down')\n",
    "                return path\n",
    "        \n",
    "        return None\n",
    "    \n",
    "    \n",
    "    def find_best_solutions(self, max_depth):\n",
    "        depth = self.depth\n",
    "        \n",
    "        for _ in range(depth, max_depth):\n",
    "            solutions = []\n",
    "        \n",
    "            for leaf in self.leaves:\n",
    "                if leaf.game.gameover():\n",
    "                    solutions.append(leaf)\n",
    "\n",
    "            if len(solutions) != 0:\n",
    "                return [self.find_path(s) for s in solutions]\n",
    "            else:\n",
    "                self.do_step()\n",
    "        \n",
    "        return None"
   ]
  },
  {
   "cell_type": "markdown",
   "id": "9fd6e4b5",
   "metadata": {},
   "source": [
    "Let's find the best solution and compare it with the true one."
   ]
  },
  {
   "cell_type": "code",
   "execution_count": 273,
   "id": "0fca01c0",
   "metadata": {},
   "outputs": [
    {
     "name": "stdout",
     "output_type": "stream",
     "text": [
      "[['down', 'right', 'up', 'right', 'up', 'left', 'down']]\n"
     ]
    }
   ],
   "source": [
    "game = set_game()\n",
    "tree = GameTree(game)\n",
    "\n",
    "print(tree.find_best_solutions(max_depth=10))"
   ]
  },
  {
   "cell_type": "markdown",
   "id": "7cfe20f1",
   "metadata": {},
   "source": [
    "<img src='https://courses.cs.ut.ee/2022/algorithmics/uploads/Main/Tilt.png'></img>"
   ]
  },
  {
   "cell_type": "markdown",
   "id": "a0559e39",
   "metadata": {},
   "source": [
    "Success! Let's justify the reachable number of configurations."
   ]
  },
  {
   "cell_type": "markdown",
   "id": "bac42916",
   "metadata": {},
   "source": [
    "The number of all possible positions for sliders on a board of size $n*n$ with b **fixed** obstacles is: $n^2 - b$.  \n",
    "We should place $s$ sliders on the board, **without distinguishing them from each other**. Then what we should calculate is the number of $s$-combinations over the set $n^2 - b$: ${n^2 - b \\choose s} = \\frac{(n^2 - b)!}{s! (n^2 - b - s)!}$. This is the maximal number of possible configurations disregarding admissible moving rules. In other words, this is an **upper bound**."
   ]
  }
 ],
 "metadata": {
  "kernelspec": {
   "display_name": "Python 3 (ipykernel)",
   "language": "python",
   "name": "python3"
  },
  "language_info": {
   "codemirror_mode": {
    "name": "ipython",
    "version": 3
   },
   "file_extension": ".py",
   "mimetype": "text/x-python",
   "name": "python",
   "nbconvert_exporter": "python",
   "pygments_lexer": "ipython3",
   "version": "3.8.10"
  }
 },
 "nbformat": 4,
 "nbformat_minor": 5
}
