{
 "cells": [
  {
   "cell_type": "markdown",
   "id": "e79ecaba",
   "metadata": {},
   "source": [
    "# Homework 9"
   ]
  },
  {
   "cell_type": "markdown",
   "id": "fc7b2194",
   "metadata": {},
   "source": [
    "## Exercise 1"
   ]
  },
  {
   "cell_type": "code",
   "execution_count": 3,
   "id": "53e3743c",
   "metadata": {},
   "outputs": [],
   "source": [
    "import heapq\n",
    "import numpy as np\n",
    "\n",
    "from collections import deque\n",
    "from enum import Enum\n",
    "from PIL import Image\n",
    "from pqdict import minpq\n",
    "from time import perf_counter as timer"
   ]
  },
  {
   "cell_type": "code",
   "execution_count": 170,
   "id": "da847ac2",
   "metadata": {},
   "outputs": [],
   "source": [
    "class Color(Enum):\n",
    "    WHITE = (255, 255, 255)\n",
    "    PINK = (255, 192, 203)\n",
    "    BLUE = (0, 0, 255)\n",
    "    RED = (255, 0, 0)\n",
    "    LIGHTBLUE = (173, 216, 230)\n",
    "    GREEN = (144, 238, 144)"
   ]
  },
  {
   "cell_type": "code",
   "execution_count": 158,
   "id": "e62f54cd",
   "metadata": {},
   "outputs": [],
   "source": [
    "def find_neighbours(image, u):\n",
    "    neighbours = []\n",
    "    \n",
    "    for i in range(-1, 2):\n",
    "        for j in range(-1, 2):\n",
    "            \n",
    "            # not u\n",
    "            if i == j == 0:\n",
    "                continue\n",
    "\n",
    "            v = (u[0] + i, u[1] + j)\n",
    "            # verify that we don't cross the bounds\n",
    "            if (v[0] < 0 or v[0] >= image.width) or \\\n",
    "               (v[1] < 0 or v[1] + j >= image.height):\n",
    "                continue\n",
    "                \n",
    "            if i == j or i == -j:\n",
    "                # euclidean distance for diagonal neighbours\n",
    "                dist = np.sqrt(2)\n",
    "            else:\n",
    "                dist = 1\n",
    "                \n",
    "            if Color(image.getpixel(v)) == Color.PINK:\n",
    "                # wall\n",
    "                dist = np.inf\n",
    "            elif Color(image.getpixel(v)) == Color.GREEN:\n",
    "                # swamp\n",
    "                dist *= 2\n",
    "            elif Color(image.getpixel(v)) == Color.LIGHTBLUE:\n",
    "                # sea\n",
    "                dist *= 4\n",
    "            \n",
    "            neighbours.append((v, dist))\n",
    "    \n",
    "    return neighbours"
   ]
  },
  {
   "cell_type": "code",
   "execution_count": 163,
   "id": "562ae6b3",
   "metadata": {},
   "outputs": [],
   "source": [
    "def dijkstra_algorithm(image, origin, target):\n",
    "    prev = np.full(image.size, None)\n",
    "    dist = np.full(image.size, np.inf)\n",
    "    queue = minpq()\n",
    "    \n",
    "    dist[origin] = 0\n",
    "    queue[origin] = 0\n",
    "    \n",
    "    for u, min_dist in queue.popitems():\n",
    "        if u == target:\n",
    "            break\n",
    "        \n",
    "        for v, edge in find_neighbours(image, u):\n",
    "            alt = dist[u] + edge\n",
    "\n",
    "            if alt < dist[v]:\n",
    "                dist[v] = alt\n",
    "                queue[v] = alt\n",
    "                prev[v] = u\n",
    "        \n",
    "    return dist, prev"
   ]
  },
  {
   "cell_type": "code",
   "execution_count": 164,
   "id": "5175115c",
   "metadata": {},
   "outputs": [],
   "source": [
    "def get_path(prev, target):\n",
    "    path = deque([])\n",
    "    current = target\n",
    "    \n",
    "    while current is not None:\n",
    "        path.appendleft(current)\n",
    "        current = prev[current]\n",
    "    \n",
    "    return path"
   ]
  },
  {
   "cell_type": "code",
   "execution_count": 109,
   "id": "440aeb56",
   "metadata": {},
   "outputs": [],
   "source": [
    "def get_coverage(dist):\n",
    "    visited = []\n",
    "    \n",
    "    for i in range(dist.shape[0]):\n",
    "        for j in range(dist.shape[1]):\n",
    "            if dist[i][j] != np.inf:\n",
    "                visited.append((i, j))\n",
    "    \n",
    "    return visited"
   ]
  },
  {
   "cell_type": "code",
   "execution_count": 110,
   "id": "84915900",
   "metadata": {},
   "outputs": [],
   "source": [
    "def find_origin_target(image):\n",
    "    origin = target = None\n",
    "    \n",
    "    for i in range(image.height): \n",
    "        for j in range(image.width):\n",
    "            if Color(image.getpixel((i, j))) == Color.BLUE:\n",
    "                origin = (i, j)\n",
    "                if target is not None:\n",
    "                    return (origin, target)\n",
    "            elif Color(image.getpixel((i, j))) == Color.RED:\n",
    "                target = (i, j)\n",
    "                if origin is not None:\n",
    "                    return (origin, target)\n",
    "    \n",
    "    return (origin, target)"
   ]
  },
  {
   "cell_type": "code",
   "execution_count": 165,
   "id": "5ddac307",
   "metadata": {},
   "outputs": [
    {
     "name": "stdout",
     "output_type": "stream",
     "text": [
      "Dijkstra algorithm execution time: 3.03 s.\n",
      "Shortest distance from A to B by Dijkstra algorithm: 637.328.\n"
     ]
    }
   ],
   "source": [
    "with Image.open('map250.png').convert('RGB') as im:\n",
    "    origin, target = find_origin_target(im)\n",
    "    \n",
    "    start = timer()\n",
    "    dist, prev = dijkstra_algorithm(im, origin, target)\n",
    "    end = timer()\n",
    "    \n",
    "    print(f\"Dijkstra algorithm execution time: {round(end - start, 3)} s.\")\n",
    "    print(f\"Shortest distance from A to B by Dijkstra algorithm: {round(dist[target], 3)}.\")\n",
    "    \n",
    "    with open(\"1/dijkstra_path.txt\", \"w\") as file:\n",
    "        path = get_path(prev, target)\n",
    "        for v in path:\n",
    "            file.write(f\"{v[0]} {v[1]}\\n\")\n",
    "    \n",
    "    with open(\"1/dijkstra_coverage.txt\", \"w\") as file:\n",
    "        coverage = get_coverage(dist)\n",
    "        for v in coverage:\n",
    "            file.write(f\"{v[0]} {v[1]}\\n\")"
   ]
  },
  {
   "cell_type": "markdown",
   "id": "dbd4dfbe",
   "metadata": {},
   "source": [
    "The path:\n",
    "<img src='1/dijkstra_path.png'>"
   ]
  },
  {
   "cell_type": "markdown",
   "id": "02c2fc37",
   "metadata": {},
   "source": [
    "The coverage:\n",
    "<img src='1/dijkstra_coverage.png'>"
   ]
  },
  {
   "cell_type": "markdown",
   "id": "52f3baba",
   "metadata": {},
   "source": [
    "Dijkstra algorithm finds the shortest path in 3 seconds but needs to check almost all pixels. Let's try A* and see whether introducing heuristics will help to decrease coverage."
   ]
  },
  {
   "cell_type": "markdown",
   "id": "36374f53",
   "metadata": {},
   "source": [
    "## Exercise 2"
   ]
  },
  {
   "cell_type": "code",
   "execution_count": 4,
   "id": "1eec691f",
   "metadata": {},
   "outputs": [],
   "source": [
    "def euclidean_distance(a, b):\n",
    "    (x1, y1) = a\n",
    "    (x2, y2) = b\n",
    "    return np.sqrt((x1 - x2) ** 2 + (y1 - y2) ** 2)"
   ]
  },
  {
   "cell_type": "code",
   "execution_count": 166,
   "id": "bfec3df2",
   "metadata": {},
   "outputs": [],
   "source": [
    "def a_star_algorithm(image, origin, target):\n",
    "    prev = np.full(image.size, None)\n",
    "    dist = np.full(image.size, np.inf)\n",
    "    queue = minpq()\n",
    "    \n",
    "    dist[origin] = 0\n",
    "    queue[origin] = 0\n",
    "    \n",
    "    for u, min_dist in queue.popitems():\n",
    "        if u == target:\n",
    "            break\n",
    "        \n",
    "        for v, edge in find_neighbours(image, u):\n",
    "            alt = dist[u] + edge\n",
    "\n",
    "            if alt < dist[v]:\n",
    "                dist[v] = alt\n",
    "                queue[v] = alt + euclidean_distance(v, target)\n",
    "                prev[v] = u\n",
    "        \n",
    "    return dist, prev"
   ]
  },
  {
   "cell_type": "code",
   "execution_count": 167,
   "id": "c2263f54",
   "metadata": {},
   "outputs": [
    {
     "name": "stdout",
     "output_type": "stream",
     "text": [
      "A*-algorithm execution time: 2.87 s.\n",
      "Shortest distance from A to B by A*-algorithm: 637.328.\n"
     ]
    }
   ],
   "source": [
    "with Image.open('map250.png').convert('RGB') as im:\n",
    "    origin, target = find_origin_target(im)\n",
    "    \n",
    "    start = timer()\n",
    "    dist, prev = a_star_algorithm(im, origin, target)\n",
    "    end = timer()\n",
    "    \n",
    "    print(f\"A*-algorithm execution time: {round(end - start, 3)} s.\")\n",
    "    print(f\"Shortest distance from A to B by A*-algorithm: {round(dist[target], 3)}.\")\n",
    "    \n",
    "    with open(\"2/a_star_path.txt\", \"w\") as file:\n",
    "        path = get_path(prev, target)\n",
    "        for v in path:\n",
    "            file.write(f\"{v[0]} {v[1]}\\n\")\n",
    "    \n",
    "    with open(\"2/a_star_coverage.txt\", \"w\") as file:\n",
    "        coverage = get_coverage(dist)\n",
    "        for v in coverage:\n",
    "            file.write(f\"{v[0]} {v[1]}\\n\")"
   ]
  },
  {
   "cell_type": "markdown",
   "id": "5e4d3a64",
   "metadata": {},
   "source": [
    "The path:\n",
    "<img src='2/a_star_path.png'>"
   ]
  },
  {
   "cell_type": "markdown",
   "id": "c8a1b78c",
   "metadata": {},
   "source": [
    "The coverage:\n",
    "<img src='2/a_star_coverage.png'>"
   ]
  },
  {
   "cell_type": "markdown",
   "id": "ab2070e5",
   "metadata": {},
   "source": [
    "So, introducing heuristics (euclidean distance) in A* algorithm, despite the extra amount of computations, resulted in better performance and smaller coverage."
   ]
  },
  {
   "cell_type": "markdown",
   "id": "9caeae2e",
   "metadata": {},
   "source": [
    "## Exercise 3"
   ]
  },
  {
   "cell_type": "code",
   "execution_count": 171,
   "id": "b4b7ae11",
   "metadata": {},
   "outputs": [
    {
     "name": "stdout",
     "output_type": "stream",
     "text": [
      "A*-algorithm execution time: 55.52 s.\n",
      "Shortest distance from A to B by A*-algorithm: 2002.344.\n"
     ]
    }
   ],
   "source": [
    "with Image.open('map1000.png').convert('RGB') as im:\n",
    "    origin, target = find_origin_target(im)\n",
    "    \n",
    "    start = timer()\n",
    "    dist, prev = a_star_algorithm(im, origin, target)\n",
    "    end = timer()\n",
    "    \n",
    "    print(f\"A*-algorithm execution time: {round(end - start, 3)} s.\")\n",
    "    print(f\"Shortest distance from A to B by A*-algorithm: {round(dist[target], 3)}.\")\n",
    "    \n",
    "    with open(\"3/a_star_path.txt\", \"w\") as file:\n",
    "        path = get_path(prev, target)\n",
    "        for v in path:\n",
    "            file.write(f\"{v[0]} {v[1]}\\n\")\n",
    "    \n",
    "    with open(\"3/a_star_coverage.txt\", \"w\") as file:\n",
    "        coverage = get_coverage(dist)\n",
    "        for v in coverage:\n",
    "            file.write(f\"{v[0]} {v[1]}\\n\")"
   ]
  },
  {
   "cell_type": "markdown",
   "id": "1ac898f2",
   "metadata": {},
   "source": [
    "The path:\n",
    "<img src='3/a_star_path.png' width='600'>"
   ]
  },
  {
   "cell_type": "markdown",
   "id": "9f064aa7",
   "metadata": {},
   "source": [
    "The coverage:\n",
    "<img src='3/a_star_coverage.png' width='600'>"
   ]
  },
  {
   "cell_type": "markdown",
   "id": "05ad88b8",
   "metadata": {},
   "source": [
    "As we can see it from the map, algorithm decides to come around the swamps and traverse the sea (choosing the minimum trajectory of traversal). Avoiding the swamps apparently is more efficient than traversing them, hence the above path we get."
   ]
  },
  {
   "cell_type": "markdown",
   "id": "a35e98f0",
   "metadata": {},
   "source": [
    "## Exercise 4"
   ]
  },
  {
   "cell_type": "markdown",
   "id": "75c411ad",
   "metadata": {},
   "source": [
    "Let's implement the classical nearest neighbour algorithm, though run it N times, choosing all cities as an origin, and pick up the best result."
   ]
  },
  {
   "cell_type": "code",
   "execution_count": 19,
   "id": "5effdbb3",
   "metadata": {},
   "outputs": [],
   "source": [
    "class Graph:\n",
    "    \n",
    "    def __init__(self, vertices_num):\n",
    "        self.vertices = []\n",
    "        self.matrix = np.zeros((vertices_num, vertices_num))\n",
    "        \n",
    "    def vertex(self, i):\n",
    "        return self.vertices[i]\n",
    "    \n",
    "    def add_edge(self, v1, v2, dist):\n",
    "        self.matrix[v1][v2] = dist\n",
    "        self.matrix[v2][v1] = dist\n",
    "    \n",
    "    def parse(self, file):\n",
    "        for i, line in enumerate(file.readlines()):\n",
    "            v1 = [int(a) for a in line.split()]\n",
    "            for j, v2 in enumerate(self.vertices):\n",
    "                self.add_edge(i, j, euclidean_distance(v1, v2))\n",
    "            self.vertices.append(v1)\n",
    "    \n",
    "    def size(self):\n",
    "        return len(self.vertices)\n",
    "    \n",
    "    def edges_num(self):\n",
    "        return sum([len(lst) for lst in self.adjacent]) // 2\n",
    "    \n",
    "    def dist(self, v1, v2):\n",
    "        return self.matrix[v1][v2]"
   ]
  },
  {
   "cell_type": "code",
   "execution_count": 24,
   "id": "a145eac4",
   "metadata": {},
   "outputs": [],
   "source": [
    "def nearest_neighbour_algorithm(graph, origin):\n",
    "    path = [origin]\n",
    "    visited = [False] * graph.size()\n",
    "    visited[origin] = True\n",
    "    i = origin\n",
    "\n",
    "    for _ in range(graph.size() - 1):\n",
    "        nearest = None\n",
    "        min_dist = np.inf\n",
    "\n",
    "        for j in range(graph.size()):\n",
    "            dist = graph.dist(i, j)\n",
    "            if not visited[j] and dist < min_dist:\n",
    "                nearest = j\n",
    "                min_dist = dist\n",
    "\n",
    "        path.append(nearest)\n",
    "        visited[nearest] = True\n",
    "        i = nearest\n",
    "    \n",
    "    return path"
   ]
  },
  {
   "cell_type": "code",
   "execution_count": 37,
   "id": "cfb28b27",
   "metadata": {},
   "outputs": [],
   "source": [
    "def calc_total_distance(graph, path):\n",
    "    return sum([graph.dist(path[i - 1], path[i]) for i in range(len(path))])"
   ]
  },
  {
   "cell_type": "code",
   "execution_count": 56,
   "id": "81432d2f",
   "metadata": {},
   "outputs": [],
   "source": [
    "def NN_shortest_path(graph):\n",
    "    paths = []\n",
    "    \n",
    "    for i in range(graph.size()):\n",
    "        paths.append(nearest_neighbour_algorithm(graph, i))\n",
    "    distances = [calc_total_distance(graph, path) for path in paths]\n",
    "    min_index = np.argmin(distances)\n",
    "    \n",
    "    return paths[min_index], distances[min_index]"
   ]
  },
  {
   "cell_type": "code",
   "execution_count": 14,
   "id": "271928ea",
   "metadata": {},
   "outputs": [],
   "source": [
    "import requests\n",
    "\n",
    "from zipfile import ZipFile"
   ]
  },
  {
   "cell_type": "code",
   "execution_count": 8,
   "id": "6d437a8c",
   "metadata": {},
   "outputs": [
    {
     "name": "stdout",
     "output_type": "stream",
     "text": [
      "File Name                                             Modified             Size\n",
      "10.txt                                         2020-10-29 19:15:36           88\n",
      "100.txt                                        2020-10-29 19:16:48          881\n",
      "20.txt                                         2020-10-29 19:16:16          178\n"
     ]
    }
   ],
   "source": [
    "with open('tsp.zip', 'wb') as file:\n",
    "    file.write(requests.get('https://courses.cs.ut.ee/2022/algorithmics/uploads/Main/tsp.zip').content)\n",
    "\n",
    "with ZipFile('tsp.zip', 'r') as zip:\n",
    "    zip.extractall()\n",
    "    zip.printdir()"
   ]
  },
  {
   "cell_type": "code",
   "execution_count": 57,
   "id": "d1d3fc44",
   "metadata": {},
   "outputs": [
    {
     "name": "stdout",
     "output_type": "stream",
     "text": [
      "NN-Algorithm on 10 cities finished execution in 0.0006376000001182547 s.\n",
      "Total distance: 2261.663.\n",
      "Shortes tour: [2, 0, 4, 8, 1, 3, 6, 5, 9, 7].\n",
      "\n",
      "NN-Algorithm on 20 cities finished execution in 0.0031053000002430053 s.\n",
      "Total distance: 4479.171.\n",
      "Shortes tour: [4, 9, 7, 12, 10, 11, 5, 15, 17, 18, 1, 19, 16, 3, 14, 0, 13, 2, 6, 8].\n",
      "\n",
      "NN-Algorithm on 100 cities finished execution in 0.337077500000305 s.\n",
      "Total distance: 8449.27.\n",
      "Shortes tour: [32, 30, 13, 34, 1, 49, 75, 64, 68, 66, 76, 56, 48, 63, 40, 39, 91, 43, 84, 82, 21, 89, 65, 94, 80, 22, 58, 46, 54, 78, 2, 26, 9, 33, 28, 98, 57, 8, 3, 69, 61, 83, 67, 71, 62, 6, 86, 7, 97, 14, 60, 5, 27, 47, 52, 23, 25, 79, 17, 45, 95, 10, 20, 77, 0, 74, 29, 24, 88, 4, 85, 18, 59, 44, 11, 42, 51, 19, 37, 36, 31, 90, 92, 50, 99, 93, 70, 53, 81, 15, 12, 73, 87, 38, 41, 55, 72, 35, 96, 16].\n",
      "\n"
     ]
    }
   ],
   "source": [
    "sizes = [10, 20, 100]\n",
    "\n",
    "for size in sizes:\n",
    "    graph = Graph(size)\n",
    "    \n",
    "    with open(str(size) + '.txt', 'r') as file:\n",
    "        graph.parse(file)\n",
    "    \n",
    "    start = timer()\n",
    "    path, dist = NN_shortest_path(graph)\n",
    "    end = timer()\n",
    "    print(f\"NN-Algorithm on {size} cities finished execution in {end - start} s.\")\n",
    "    print(f\"Total distance: {round(dist, 3)}.\")\n",
    "    print(f\"Shortes tour: {path}.\\n\")\n",
    "    \n",
    "    with open('4/path' + str(size) + '.txt', 'w') as file:\n",
    "        for i in path:\n",
    "            file.write(f\"{i}\\n\")"
   ]
  },
  {
   "cell_type": "markdown",
   "id": "d1343c18",
   "metadata": {},
   "source": [
    "**10 cities shortest path:**\n",
    "<img src='4/path10.png' width='600'>"
   ]
  },
  {
   "cell_type": "markdown",
   "id": "3e1a075b",
   "metadata": {},
   "source": [
    "**20 cities shortest path:**\n",
    "<img src='4/path20.png' width='600'>"
   ]
  },
  {
   "cell_type": "markdown",
   "id": "27832bbb",
   "metadata": {},
   "source": [
    "**100 cities shortest path:**\n",
    "<img src='4/path100.png' width='600'>"
   ]
  },
  {
   "cell_type": "markdown",
   "id": "9d0157e9",
   "metadata": {},
   "source": [
    "## Exercise 5"
   ]
  },
  {
   "cell_type": "code",
   "execution_count": 40,
   "id": "3e74cea2",
   "metadata": {},
   "outputs": [],
   "source": [
    "np.random.seed(1111)"
   ]
  },
  {
   "cell_type": "code",
   "execution_count": 46,
   "id": "b151ab2a",
   "metadata": {},
   "outputs": [],
   "source": [
    "def find_path_neighbours(path):\n",
    "    neighbours = []\n",
    "    \n",
    "    for i in range(len(path)):\n",
    "        for j in range(i + 1, len(path)):\n",
    "            neighbour = path.copy()\n",
    "            # swap cities in routes\n",
    "            neighbour[i], neighbour[j] = path[j], path[i]\n",
    "            neighbours.append(neighbour)\n",
    "    \n",
    "    return neighbours"
   ]
  },
  {
   "cell_type": "code",
   "execution_count": 47,
   "id": "39a86b89",
   "metadata": {},
   "outputs": [],
   "source": [
    "def get_best_neighbour(graph, neighbours):\n",
    "    min_dist = np.inf\n",
    "    min_path = None\n",
    "    \n",
    "    for neighbour in neighbours:\n",
    "        dist = calc_total_distance(graph, neighbour)\n",
    "        if dist < min_dist:\n",
    "            min_dist = dist\n",
    "            min_path = neighbour\n",
    "    \n",
    "    return min_path, min_dist"
   ]
  },
  {
   "cell_type": "code",
   "execution_count": 48,
   "id": "f4b0588e",
   "metadata": {},
   "outputs": [],
   "source": [
    "def hill_climbing_algorithm(graph, origin):\n",
    "    current = list(range(graph.size()))\n",
    "    np.random.shuffle(current)\n",
    "    \n",
    "    current_dist = calc_total_distance(graph, current)\n",
    "    neighbours = find_path_neighbours(current)\n",
    "    best_neighbour, best_dist = get_best_neighbour(graph, neighbours)\n",
    "\n",
    "    while best_dist < current_dist:\n",
    "        current = best_neighbour\n",
    "        current_dist = best_dist\n",
    "        neighbours = find_path_neighbours(current)\n",
    "        best_neighbour, best_dist = get_best_neighbour(graph, neighbours)\n",
    "\n",
    "    return current, current_dist"
   ]
  },
  {
   "cell_type": "code",
   "execution_count": 49,
   "id": "63166a64",
   "metadata": {},
   "outputs": [
    {
     "name": "stdout",
     "output_type": "stream",
     "text": [
      "Hill Climbing Algorithm on 10 cities finished execution in 0.0020893000000796746 s.\n",
      "Total distance: 2270.988.\n",
      "Shortes tour: [2, 0, 4, 1, 8, 7, 9, 5, 6, 3].\n",
      "\n",
      "Hill Climbing Algorithm on 20 cities finished execution in 0.019010600000001432 s.\n",
      "Total distance: 4912.013.\n",
      "Shortes tour: [5, 15, 17, 18, 1, 3, 14, 0, 13, 12, 7, 9, 4, 2, 8, 6, 16, 19, 10, 11].\n",
      "\n",
      "Hill Climbing Algorithm on 100 cities finished execution in 24.06197599999996 s.\n",
      "Total distance: 12932.252.\n",
      "Shortes tour: [12, 73, 13, 30, 1, 34, 87, 16, 96, 35, 72, 55, 38, 41, 32, 61, 83, 67, 71, 43, 84, 39, 40, 51, 19, 42, 23, 47, 27, 5, 9, 26, 2, 22, 80, 94, 65, 95, 52, 45, 17, 79, 25, 91, 8, 33, 28, 98, 57, 36, 37, 31, 90, 92, 53, 70, 59, 18, 66, 56, 62, 3, 69, 6, 86, 82, 60, 14, 21, 89, 46, 58, 54, 78, 97, 7, 48, 63, 76, 68, 64, 49, 75, 44, 11, 24, 88, 20, 10, 77, 4, 74, 0, 29, 85, 50, 99, 93, 81, 15].\n",
      "\n"
     ]
    }
   ],
   "source": [
    "sizes = [10, 20, 100]\n",
    "\n",
    "for size in sizes:\n",
    "    graph = Graph(size)\n",
    "    \n",
    "    with open(str(size) + '.txt', 'r') as file:\n",
    "        graph.parse(file)\n",
    "    \n",
    "    start = timer()\n",
    "    path, dist = hill_climbing_algorithm(graph)\n",
    "    end = timer()\n",
    "    print(f\"Hill Climbing Algorithm on {size} cities finished execution in {end - start} s.\")\n",
    "    print(f\"Total distance: {round(dist, 3)}.\")\n",
    "    print(f\"Shortes tour: {path}.\\n\")\n",
    "    \n",
    "    with open('5/path' + str(size) + '.txt', 'w') as file:\n",
    "        for i in path:\n",
    "            file.write(f\"{i}\\n\")"
   ]
  },
  {
   "cell_type": "markdown",
   "id": "fe7737e2",
   "metadata": {},
   "source": [
    "**10 cities shortest path:**\n",
    "<img src='5/path10.png' width='600'>"
   ]
  },
  {
   "cell_type": "markdown",
   "id": "2fb647a8",
   "metadata": {},
   "source": [
    "**20 cities shortest path:**\n",
    "<img src='5/path20.png' width='600'>"
   ]
  },
  {
   "cell_type": "markdown",
   "id": "ebfc0bd7",
   "metadata": {},
   "source": [
    "**100 cities shortest path:**\n",
    "<img src='5/path100.png' width='600'>"
   ]
  },
  {
   "cell_type": "markdown",
   "id": "290aec8e",
   "metadata": {},
   "source": [
    "Compared to Nearest Neighbour algorithm, Hill Climbing algorithm worked slower and provided worse solutions. On a graph with 100 cities, the difference in results and execution times became significant. Perhaps, by generating some other random set-up, we may achieve better results for Hill Climbing. Also, we can modify the strategy of choosing the neighbourhood, this may help us achieve better performance (but there will still be a trade-off between optimality of a solution and execution time)."
   ]
  },
  {
   "cell_type": "markdown",
   "id": "f8046b0d",
   "metadata": {},
   "source": [
    "Let's try to run 100 iterations of Hill Climbing to see how randomization may influence the results."
   ]
  },
  {
   "cell_type": "code",
   "execution_count": 62,
   "id": "f076813a",
   "metadata": {},
   "outputs": [
    {
     "name": "stdout",
     "output_type": "stream",
     "text": [
      "Average time running Hill Climbing algorithm on 20 cities: 0.027038689000019076 s.\n",
      "Best found solution: 4113.342.\n",
      "Running time Nearest Neighbour algorithm: 0.0031053000002430053 s.\n",
      "Best solution of Nearest Neighbour algorithm: 4479.171.\n"
     ]
    }
   ],
   "source": [
    "min_path = None\n",
    "min_dist = np.inf\n",
    "times = []\n",
    "n_iterations = 100\n",
    "\n",
    "graph = Graph(20)\n",
    "with open('20.txt', 'r') as file:\n",
    "    graph.parse(file)\n",
    "\n",
    "for _ in range(n_iterations):\n",
    "    start = timer()\n",
    "    path, dist = hill_climbing_algorithm(graph)\n",
    "    end = timer()\n",
    "    times.append(end - start)\n",
    "    \n",
    "    if dist < min_dist:\n",
    "        min_dist = dist\n",
    "        min_path = path\n",
    "\n",
    "print(f\"Average time running Hill Climbing algorithm on 20 cities: {np.mean(times)} s.\")\n",
    "print(f\"Best found solution: {round(min_dist, 3)}.\")\n",
    "print(f\"Running time of Nearest Neighbour algorithm: 0.0031053000002430053 s.\")\n",
    "print(f\"Best solution of Nearest Neighbour algorithm: 4479.171.\")"
   ]
  },
  {
   "cell_type": "markdown",
   "id": "44cc7b18",
   "metadata": {},
   "source": [
    "So, despite much bigger running time, Hill Climbing may return even better result than Nearest Neighbour algorithm."
   ]
  }
 ],
 "metadata": {
  "kernelspec": {
   "display_name": "Python 3 (ipykernel)",
   "language": "python",
   "name": "python3"
  },
  "language_info": {
   "codemirror_mode": {
    "name": "ipython",
    "version": 3
   },
   "file_extension": ".py",
   "mimetype": "text/x-python",
   "name": "python",
   "nbconvert_exporter": "python",
   "pygments_lexer": "ipython3",
   "version": "3.8.10"
  }
 },
 "nbformat": 4,
 "nbformat_minor": 5
}
