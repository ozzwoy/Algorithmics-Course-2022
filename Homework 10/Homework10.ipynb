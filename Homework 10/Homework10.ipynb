{
 "cells": [
  {
   "cell_type": "markdown",
   "id": "9f9263f3",
   "metadata": {},
   "source": [
    "# Homework 10"
   ]
  },
  {
   "cell_type": "markdown",
   "id": "ec3e33be",
   "metadata": {},
   "source": [
    "## Exercise 1"
   ]
  },
  {
   "cell_type": "markdown",
   "id": "69dee6a2",
   "metadata": {},
   "source": [
    "My preliminary decision is an article \"Algorithms for Solving Rubik’s Cubes\". The article seems the most attractive to me because of its conciseness and proximity to mundane life. I can solve the Rubik's cube by one of the algorithms handy for humans and it is intriguing for me to see how computers can do it and maybe do it with a better optimized strategy."
   ]
  },
  {
   "cell_type": "markdown",
   "id": "ed9e50a5",
   "metadata": {},
   "source": [
    "## Exercise 2"
   ]
  },
  {
   "cell_type": "markdown",
   "id": "5deea298",
   "metadata": {},
   "source": [
    "<table>\n",
    "  <tr>\n",
    "    <th style='text-align: center'>Recursion Tree for calculate_magic_number(2, 2)</th>\n",
    "  </tr>\n",
    "  <tr>\n",
    "    <td><img src='rec_tree.png'></td>\n",
    "  </tr>\n",
    "</table>"
   ]
  },
  {
   "cell_type": "markdown",
   "id": "9c0a2eb3",
   "metadata": {},
   "source": [
    "There are 14 overlapping function calls in total."
   ]
  },
  {
   "cell_type": "markdown",
   "id": "6d99f7ea",
   "metadata": {},
   "source": [
    "<br>\n",
    "Recursive structure of the function:\n",
    "\n",
    "$f(a, b) = \\mathrm{sum} \\begin{cases} f(a - 1, b) \\\\ f(a, b - 1) \\\\ f(a - 1, b - 1) \\end{cases}$\n",
    "\n",
    "with $f(0, k) = k; f(k, 0) = k$."
   ]
  },
  {
   "cell_type": "markdown",
   "id": "e54bb198",
   "metadata": {},
   "source": [
    "<br>\n",
    "Let's propose a Dynamic Programming algorithm:\n",
    "\n",
    "**Input:** $a$, $b$.\n",
    "\n",
    "**Output:** Value $T[a][b]$ in 2D-array $T$ of size $(a + 1, b + 1)$.\n",
    "\n",
    "$T \\leftarrow$ array of size $(a + 1, b + 1)$\n",
    "\n",
    "**for** $i = 0$ **to** $a + 1$ **do** $T[i][0] \\leftarrow i$\n",
    "\n",
    "**for** $j = 0$ **to** $b + 1$ **do** $T[0][j] \\leftarrow j$\n",
    "\n",
    "**for** $j = 1$ **to** $b + 1$ **do**\n",
    "\n",
    "&emsp;**for** $i = 1$ **to** $a + 1$ **do**\n",
    "        \n",
    "&emsp;&emsp;$T[i][j] \\leftarrow T[i - 1][j] + T[i][j - 1] + T[i - 1][j - 1]$"
   ]
  },
  {
   "cell_type": "markdown",
   "id": "046f5f6c",
   "metadata": {},
   "source": [
    "<br>\n",
    "The table $T$ for calculate_magic_number(2, 2) looks like:\n",
    "\n",
    "<table>\n",
    "    <tr>\n",
    "        <td></td>\n",
    "        <td></td>\n",
    "        <td>b</td>\n",
    "        <td></td>\n",
    "    </tr>\n",
    "    <tr>\n",
    "        <td></td>\n",
    "        <td style='border:1px solid black;'>0</td>\n",
    "        <td style='border:1px solid black;'>1</td>\n",
    "        <td style='border:1px solid black;'>2</td>\n",
    "    </tr>\n",
    "    <tr>\n",
    "        <td>a</td>\n",
    "        <td style='border:1px solid black;'>1</td>\n",
    "        <td style='border:1px solid black;'>2</td>\n",
    "        <td style='border:1px solid black;'>5</td>\n",
    "    </tr>\n",
    "    <tr>\n",
    "        <td></td>\n",
    "        <td style='border:1px solid black;'>2</td>\n",
    "        <td style='border:1px solid black;'>5</td>\n",
    "        <td style='border:1px solid black;'><p style='color:red'>12</p></td>\n",
    "    </tr>\n",
    "</table>\n",
    "\n",
    "calculate_magic_number(2, 2) = $T[2][2]$ = 12."
   ]
  },
  {
   "cell_type": "markdown",
   "id": "ca1dcb6a",
   "metadata": {},
   "source": [
    "**Time Complexity**\n",
    "\n",
    "Let $n$ be $\\mathrm{max}(a, b)$.\n",
    "\n",
    "Recursive algorithm complexity: $O(3^n)$.\n",
    "\n",
    "Dynamic Programming algorithm complexity: $O(n^2)$."
   ]
  },
  {
   "cell_type": "markdown",
   "id": "113f3cc4",
   "metadata": {},
   "source": [
    "## Exercise 4"
   ]
  },
  {
   "cell_type": "code",
   "execution_count": 37,
   "id": "11cc7941",
   "metadata": {},
   "outputs": [],
   "source": [
    "import matplotlib.pyplot as plt\n",
    "import numpy as np"
   ]
  },
  {
   "cell_type": "code",
   "execution_count": 38,
   "id": "bf60567a",
   "metadata": {},
   "outputs": [],
   "source": [
    "def euclidean_distance(p1, p2):\n",
    "    return np.sqrt((p1[0] - p2[0]) ** 2 + (p1[1] - p2[1]) ** 2)"
   ]
  },
  {
   "cell_type": "code",
   "execution_count": 44,
   "id": "5386588c",
   "metadata": {},
   "outputs": [],
   "source": [
    "def dynamic_time_warping(s1, s2, dist_fn):\n",
    "    matrix = np.full((len(s1), len(s2)), None)\n",
    "    pred = np.full((len(s1), len(s2)), None)\n",
    "\n",
    "    matrix[0][0] = dist_fn((0, s1[0]), (0, s2[0]))\n",
    "    \n",
    "    for i in range(1, len(s1)):\n",
    "        matrix[i][0] = dist_fn((i, s1[i]), (0, s2[0])) + matrix[i - 1][0]\n",
    "        pred[i][0] = (i - 1, 0)\n",
    "    for j in range(1, len(s2)):\n",
    "        matrix[0][j] = dist_fn((0, s1[0]), (j, s2[j])) + matrix[0][j - 1]\n",
    "        pred[0][j] = (0, j - 1)\n",
    "        \n",
    "    for i in range(1, len(s1)):\n",
    "        for j in range(1, len(s2)):\n",
    "            neighbours = [(i, j - 1), (i - 1, j), (i - 1, j - 1)]\n",
    "            min_neighbour_index = np.argmin([matrix[k] for k in neighbours])\n",
    "            min_neighbour = neighbours[min_neighbour_index]\n",
    "            \n",
    "            matrix[i][j] = matrix[min_neighbour] + dist_fn((i, s1[i]), (j, s2[j]))\n",
    "            pred[i][j] = min_neighbour\n",
    "    \n",
    "    return get_alignments(pred), matrix[-1][-1]"
   ]
  },
  {
   "cell_type": "code",
   "execution_count": 45,
   "id": "e50f6e40",
   "metadata": {},
   "outputs": [],
   "source": [
    "def get_alignments(pred):\n",
    "    alignments = []\n",
    "    current = (pred.shape[0] - 1, pred.shape[1] - 1)\n",
    "    \n",
    "    while current is not None:\n",
    "        alignments.append(current)\n",
    "        current = pred[current]\n",
    "    \n",
    "    # reverse alignments order\n",
    "    return alignments[::-1]"
   ]
  },
  {
   "cell_type": "code",
   "execution_count": 66,
   "id": "25441b89",
   "metadata": {},
   "outputs": [],
   "source": [
    "def plot_sequences(s1, s2, alignments, shift=0):\n",
    "    plt.rcParams[\"figure.figsize\"] = (12, 8)\n",
    "    plt.xlabel('s1')\n",
    "    plt.ylabel('s2')\n",
    "    plt.title('Time Warp')\n",
    "    \n",
    "    for pair in alignments:\n",
    "        plt.plot([pair[0], pair[1]], [s1[pair[0]], s2[pair[1]] + shift], color='red', linestyle='--')\n",
    "        \n",
    "    plt.plot(range(len(s1)), s1, color='blue')\n",
    "    plt.plot(range(len(s2)), [y + shift for y in s2], color='green')\n",
    "    \n",
    "    x = range(max(len(s1), len(s2)))\n",
    "    plt.xticks(x)\n",
    "    plt.grid()\n",
    "    \n",
    "    plt.show()"
   ]
  },
  {
   "cell_type": "code",
   "execution_count": 47,
   "id": "79e34652",
   "metadata": {},
   "outputs": [],
   "source": [
    "s1 = [2, 5, 5, 7, 9, 1, 6, 6, 8, 9, 1, 6, 6, 8, 9] \n",
    "s2 = [1, 1, 1, 1, 3, 3, 3, 3, 1, 1, 1, 1, 7, 7, 8, 7]\n",
    "s3 = [4, 2, 1, 4, 8, 8, 9, 3, 2, 3, 2, 2, 6, 9, 2, 1, 1, 6, 1] \n",
    "s4 = [1, 5, 7, 3, 7, 2, 8, 9, 9, 2, 2, 3, 7, 8] \n",
    "s5 = [3, 2, 2, 1, 1, 8, 3, 2, 6, 9, 1, 6, 1] \n",
    "s6 = [1, 1, 1, 3, 3, 2, 1, 1, 7, 7, 7]\n",
    "\n",
    "sequences = [s1, s2, s3, s4, s5, s6]"
   ]
  },
  {
   "cell_type": "code",
   "execution_count": 69,
   "id": "14708c19",
   "metadata": {},
   "outputs": [
    {
     "name": "stdout",
     "output_type": "stream",
     "text": [
      "\t\tMATRIX OF TOTAL DISTANCES BETWEEN Si and Sj\n",
      "\n",
      "[[        inf 50.0093028  71.05556227 23.71477664 37.44257899 46.70836386]\n",
      " [50.0093028          inf 57.36869464 43.73304407 39.18857216 33.77338717]\n",
      " [71.05556227 57.36869464         inf 64.55066532 49.06566951 84.17957758]\n",
      " [23.71477664 43.73304407 64.55066532         inf 38.02848514 42.65401203]\n",
      " [37.44257899 39.18857216 49.06566951 38.02848514         inf 32.9022835 ]\n",
      " [46.70836386 33.77338717 84.17957758 42.65401203 32.9022835          inf]]\n"
     ]
    }
   ],
   "source": [
    "dist_matrix = np.zeros((len(sequences), len(sequences)))\n",
    "align_matrix = np.full((len(sequences), len(sequences)), None)\n",
    "\n",
    "for i, s1 in enumerate(sequences):\n",
    "    for j, s2 in enumerate(sequences):\n",
    "        if i == j:\n",
    "            dist_matrix[i][j] = np.inf\n",
    "            continue\n",
    "        \n",
    "        alignments, dist = dynamic_time_warping(s1, s2, euclidean_distance)\n",
    "        dist_matrix[i][j] = dist\n",
    "        align_matrix[i][j] = alignments\n",
    "\n",
    "print('\\t\\tMATRIX OF TOTAL DISTANCES BETWEEN Si and Sj\\n')\n",
    "print(dist_matrix)"
   ]
  },
  {
   "cell_type": "markdown",
   "id": "8d532990",
   "metadata": {},
   "source": [
    "The matrix is symmetrical. Indeed, time alignments should be the same between the same pair of sequences, so at least we did the calculations right."
   ]
  },
  {
   "cell_type": "code",
   "execution_count": 51,
   "id": "6f284c7b",
   "metadata": {},
   "outputs": [
    {
     "name": "stdout",
     "output_type": "stream",
     "text": [
      "(0, 3)\n"
     ]
    }
   ],
   "source": [
    "nearest_seq = np.unravel_index(np.argmin(dist_matrix), dist_matrix.shape)\n",
    "print(nearest_seq)"
   ]
  },
  {
   "cell_type": "markdown",
   "id": "142ff3ef",
   "metadata": {},
   "source": [
    "The nearest sequences are s1 and s4."
   ]
  },
  {
   "cell_type": "code",
   "execution_count": 67,
   "id": "5735623f",
   "metadata": {},
   "outputs": [
    {
     "data": {
      "image/png": "[encoded data removed]",
      "text/plain": [
       "<Figure size 864x576 with 1 Axes>"
      ]
     },
     "metadata": {
      "needs_background": "light"
     },
     "output_type": "display_data"
    }
   ],
   "source": [
    "s1, s2 = nearest_seq\n",
    "plot_sequences(sequences[s1], sequences[s2], align_matrix[s1][s2], shift=9)"
   ]
  },
  {
   "cell_type": "markdown",
   "id": "6c9fdb51",
   "metadata": {},
   "source": [
    "## Exercise 5"
   ]
  },
  {
   "cell_type": "markdown",
   "id": "7b8f00c4",
   "metadata": {},
   "source": [
    "In a Knapsack Problem there are $n$ items, each with its own value and weight. The task is to pick items (without repeats) so that we don't exceed the maximum total weight $w_t$ and maximize the total cost of the items. The analogy that gave the name to the problem is putting items in a knapsack with a limited capacity.\n",
    "\n",
    "The real life situation may be that we pack for a trip and have a set of foodstuffs, each with its volume and calories. So, we try to fit the products into the knapsack and maximize the number of calories. Here, the 'weights' are the volumes and the 'costs' are the calories.\n",
    "\n",
    "Let's solve the proposed task:"
   ]
  },
  {
   "cell_type": "markdown",
   "id": "58b054ea",
   "metadata": {},
   "source": [
    "<img src='table.png'>"
   ]
  },
  {
   "cell_type": "markdown",
   "id": "acee9b1c",
   "metadata": {},
   "source": [
    "Now, moving from the rightmost bottom cell, trace the path of selections. Clearly, the item O4 is not selected because the value T[3][11]=21 comes from the top. Now me move one row up and check the same thing. T[2][11]=21 does not come from the top, so the item O3 is selected. Move w(O3)=7 steps back and one row up. The current location is T[2][4]=7. Likewise, the value 7 does not come from the top cell, thus the item O2 is included in the knapsack. Move w(O2)=4 steps back and one row up. The current cell is T[0][0]=0, the initial cell, so the algorithm is finished.\n",
    "\n",
    "Included items: O2 and O3. Total weight: 4 + 7 = 11. Total cost: 14 + 7 = 21."
   ]
  },
  {
   "cell_type": "markdown",
   "id": "2c0b062e",
   "metadata": {},
   "source": [
    "Space complexity of the solution: $O(wN)$, where $w$ is a weight constraint and $N$ is a number of items."
   ]
  }
 ],
 "metadata": {
  "kernelspec": {
   "display_name": "Python 3 (ipykernel)",
   "language": "python",
   "name": "python3"
  },
  "language_info": {
   "codemirror_mode": {
    "name": "ipython",
    "version": 3
   },
   "file_extension": ".py",
   "mimetype": "text/x-python",
   "name": "python",
   "nbconvert_exporter": "python",
   "pygments_lexer": "ipython3",
   "version": "3.8.10"
  }
 },
 "nbformat": 4,
 "nbformat_minor": 5
}
