{
 "cells": [
  {
   "cell_type": "markdown",
   "id": "359afc1c",
   "metadata": {},
   "source": [
    "# Homework 11"
   ]
  },
  {
   "cell_type": "markdown",
   "id": "fb258beb",
   "metadata": {},
   "source": [
    "## Exercise 3"
   ]
  },
  {
   "cell_type": "markdown",
   "id": "8126927f",
   "metadata": {},
   "source": [
    "Let us construct an NFA for regex (ab|(aa|b)(ba)\\*(bb|a))\\*, using the Thompson algorithm."
   ]
  },
  {
   "cell_type": "markdown",
   "id": "7411a51a",
   "metadata": {},
   "source": [
    "<table>\n",
    "    <tr>\n",
    "        <th  style=\"text-align:center\">ab</th>\n",
    "    </tr>\n",
    "    <tr>\n",
    "        <td><img src='images/ab.png'></td>\n",
    "    </tr>\n",
    "</table>"
   ]
  },
  {
   "cell_type": "markdown",
   "id": "f6e39e77",
   "metadata": {},
   "source": [
    "<table>\n",
    "    <tr>\n",
    "        <th  style=\"text-align:center\">aa|b</th>\n",
    "    </tr>\n",
    "    <tr>\n",
    "        <td><img src='images/aa_b.png'></td>\n",
    "    </tr>\n",
    "</table>"
   ]
  },
  {
   "cell_type": "markdown",
   "id": "4550a19d",
   "metadata": {},
   "source": [
    "<table>\n",
    "    <tr>\n",
    "        <th  style=\"text-align:center\">(ba)*</th>\n",
    "    </tr>\n",
    "    <tr>\n",
    "        <td><img src='images/ba_.png'></td>\n",
    "    </tr>\n",
    "</table>"
   ]
  },
  {
   "cell_type": "markdown",
   "id": "22086d0f",
   "metadata": {},
   "source": [
    "<table>\n",
    "    <tr>\n",
    "        <th  style=\"text-align:center\">bb|a</th>\n",
    "    </tr>\n",
    "    <tr>\n",
    "        <td><img src='images/bb_a.png'></td>\n",
    "    </tr>\n",
    "</table>"
   ]
  },
  {
   "cell_type": "markdown",
   "id": "d9e052b4",
   "metadata": {},
   "source": [
    "<table>\n",
    "    <tr>\n",
    "        <th  style=\"text-align:center\">ab|(aa|b)(ba)*(bb|a)</th>\n",
    "    </tr>\n",
    "    <tr>\n",
    "        <td><img src='images/all.png'></td>\n",
    "    </tr>\n",
    "</table>"
   ]
  },
  {
   "cell_type": "markdown",
   "id": "95ef90e6",
   "metadata": {},
   "source": [
    "<table>\n",
    "    <tr>\n",
    "        <th  style=\"text-align:center\">(ab|(aa|b)(ba)*(bb|a))*</th>\n",
    "    </tr>\n",
    "    <tr>\n",
    "        <td><img src='images/all_kleene_enumerated.png'></td>\n",
    "    </tr>\n",
    "</table>"
   ]
  },
  {
   "cell_type": "markdown",
   "id": "79582615",
   "metadata": {},
   "source": [
    "In order to minimize the automaton, we should convert the e-NFA to DFA (get rid of epsilon-transitions) and then minimize the DFA."
   ]
  },
  {
   "cell_type": "markdown",
   "id": "fb643dfc",
   "metadata": {},
   "source": [
    "## Exercise 4"
   ]
  },
  {
   "cell_type": "markdown",
   "id": "59cec6b3",
   "metadata": {},
   "source": [
    "<img src='https://courses.cs.ut.ee/2022/algorithmics/uploads/Main/automata.png'>"
   ]
  },
  {
   "cell_type": "markdown",
   "id": "f97226cf",
   "metadata": {},
   "source": [
    "$T_1$ on input 011: $q_1 \\xrightarrow{\\text{0/0}} q_1 \\xrightarrow{\\text{1/0}} q_1 \\xrightarrow{\\text{1/0}} q_1; output: 000.$\n",
    "  \n",
    "$T_1$ on input 211: $q_1 \\xrightarrow{\\text{2/1}} q_2 \\xrightarrow{\\text{1/1}} q_2 \\xrightarrow{\\text{1/1}} q_2; output: 111.$\n",
    "  \n",
    "$T_2$ on input b: $q_1 \\xrightarrow{\\text{b/1}} q_3; output: 1.$\n",
    "  \n",
    "$T_2$ on input bbab: $q_1 \\xrightarrow{\\text{b/1}} q_3 \\xrightarrow{\\text{b/1}} q_2 \\xrightarrow{\\text{a/1}} q_3 \\xrightarrow{\\text{b/1}} q_2; output: 1111.$$"
   ]
  },
  {
   "cell_type": "markdown",
   "id": "a4f9d3d1",
   "metadata": {},
   "source": [
    "## Exercise 5"
   ]
  },
  {
   "cell_type": "markdown",
   "id": "dae98114",
   "metadata": {},
   "source": [
    "We should an FST that inverts all odd elements in the input string. Alphabet: {0,1}."
   ]
  },
  {
   "cell_type": "markdown",
   "id": "5a8a9b1f",
   "metadata": {},
   "source": [
    "<img src='images/fst.png'>"
   ]
  },
  {
   "cell_type": "markdown",
   "id": "817c49db",
   "metadata": {},
   "source": [
    "$A$ on input 0000111: $q_1 \\xrightarrow{\\text{0/1}} q_2 \\xrightarrow{\\text{0/0}} q_1 \\xrightarrow{\\text{0/1}} q_2 \\xrightarrow{\\text{0/0}} q_1 \\xrightarrow{\\text{1/0}} q_2 \\xrightarrow{\\text{1/1}} q_1 \\xrightarrow{\\text{1/0}} q_2; output: 1010010.$"
   ]
  }
 ],
 "metadata": {
  "kernelspec": {
   "display_name": "Python 3 (ipykernel)",
   "language": "python",
   "name": "python3"
  },
  "language_info": {
   "codemirror_mode": {
    "name": "ipython",
    "version": 3
   },
   "file_extension": ".py",
   "mimetype": "text/x-python",
   "name": "python",
   "nbconvert_exporter": "python",
   "pygments_lexer": "ipython3",
   "version": "3.8.10"
  }
 },
 "nbformat": 4,
 "nbformat_minor": 5
}
