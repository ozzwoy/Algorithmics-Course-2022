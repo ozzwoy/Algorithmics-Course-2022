{
 "cells": [
  {
   "cell_type": "markdown",
   "id": "05266f52",
   "metadata": {
    "pycharm": {
     "name": "#%% md\n"
    }
   },
   "source": [
    "# Homework 4"
   ]
  },
  {
   "cell_type": "markdown",
   "id": "8fa3140c",
   "metadata": {
    "pycharm": {
     "name": "#%% md\n"
    }
   },
   "source": [
    "## Exercise 1"
   ]
  },
  {
   "cell_type": "markdown",
   "id": "01bf6884",
   "metadata": {
    "pycharm": {
     "name": "#%% md\n"
    }
   },
   "source": [
    "Let us insert 1, 5, 7, 30, 2, 4, 18, 32, 34, 36 into a skip-list with max_level = 3 and p = 0.5 (tossing an actual coin).  \n",
    "For all insertions the general idea is the same: inserting the node into its position in each sorted list whose level $\\leq$ level of the node."
   ]
  },
  {
   "cell_type": "markdown",
   "id": "f73e8380",
   "metadata": {
    "pycharm": {
     "name": "#%% md\n"
    }
   },
   "source": [
    "0. Empty list.\n",
    "<img src='SL/0.png'>"
   ]
  },
  {
   "cell_type": "markdown",
   "id": "47742748",
   "metadata": {
    "pycharm": {
     "name": "#%% md\n"
    }
   },
   "source": [
    "1. Inserting 1, level 2.\n",
    "<img src='SL/1.png'>"
   ]
  },
  {
   "cell_type": "markdown",
   "id": "043b33a5",
   "metadata": {
    "pycharm": {
     "name": "#%% md\n"
    }
   },
   "source": [
    "2. Inserting 5, level 1.\n",
    "<img src='SL/2.png'>"
   ]
  },
  {
   "cell_type": "markdown",
   "id": "22c9a411",
   "metadata": {
    "pycharm": {
     "name": "#%% md\n"
    }
   },
   "source": [
    "3. Inserting 7, level 2.\n",
    "<img src='SL/3.png'>"
   ]
  },
  {
   "cell_type": "markdown",
   "id": "4afe85cd",
   "metadata": {
    "pycharm": {
     "name": "#%% md\n"
    }
   },
   "source": [
    "4. Inserting 30, level 3.\n",
    "<img src='SL/4.png'>"
   ]
  },
  {
   "cell_type": "markdown",
   "id": "45d11de4",
   "metadata": {
    "pycharm": {
     "name": "#%% md\n"
    }
   },
   "source": [
    "5. Inserting 2, level 2.\n",
    "<img src='SL/5.png'>"
   ]
  },
  {
   "cell_type": "markdown",
   "id": "289f7d0a",
   "metadata": {
    "pycharm": {
     "name": "#%% md\n"
    }
   },
   "source": [
    "6. Inserting 4, level 0.\n",
    "<img src='SL/6.png'>"
   ]
  },
  {
   "cell_type": "markdown",
   "id": "5acc2a04",
   "metadata": {
    "pycharm": {
     "name": "#%% md\n"
    }
   },
   "source": [
    "Now, let us see how 18 is added to the list and what comparisons are done."
   ]
  },
  {
   "cell_type": "markdown",
   "id": "380f696f",
   "metadata": {
    "pycharm": {
     "name": "#%% md\n"
    }
   },
   "source": [
    "7. Inserting 18, level 1.\n",
    "<img src='SL/7.png'>\n",
    "<img src='SL/8.png'>\n",
    "<img src='SL/9.png'>"
   ]
  },
  {
   "cell_type": "markdown",
   "id": "af60df22",
   "metadata": {
    "pycharm": {
     "name": "#%% md\n"
    }
   },
   "source": [
    "8. Inserting 32, level 0.\n",
    "<img src='SL/10.png'>"
   ]
  },
  {
   "cell_type": "markdown",
   "id": "7f81eb5d",
   "metadata": {
    "pycharm": {
     "name": "#%% md\n"
    }
   },
   "source": [
    "9. Inserting 34, level 0.\n",
    "<img src='SL/11.png'>"
   ]
  },
  {
   "cell_type": "markdown",
   "id": "0e5664a2",
   "metadata": {
    "pycharm": {
     "name": "#%% md\n"
    }
   },
   "source": [
    "10. Inserting 36, level 1.\n",
    "<img src='SL/12.png'>"
   ]
  },
  {
   "cell_type": "markdown",
   "id": "e03919cb",
   "metadata": {
    "pycharm": {
     "name": "#%% md\n"
    }
   },
   "source": [
    "Fine! Now, let us simulate search for 34.\n",
    "<img src='SL/search.png'>"
   ]
  },
  {
   "cell_type": "markdown",
   "id": "afb635aa",
   "metadata": {
    "pycharm": {
     "name": "#%% md\n"
    }
   },
   "source": [
    "We see that there are 6 comparisons performed (in fact, comparisons happen each time the bullet (pointer) is lighted with green)."
   ]
  },
  {
   "cell_type": "markdown",
   "id": "0d2b059a",
   "metadata": {
    "pycharm": {
     "name": "#%% md\n"
    }
   },
   "source": [
    "## Exercise 2"
   ]
  },
  {
   "cell_type": "markdown",
   "id": "0a7a8d5e",
   "metadata": {
    "pycharm": {
     "name": "#%% md\n"
    }
   },
   "source": [
    "Let us insert the same values into the Binary Search Tree.  \n",
    "We shall not provide all steps. For all insertions the general idea is the same: comparing the be-inserted value to the value in current node; if less - going to the left subtree, if greater - going to the right subtree, if equal - stop; repeating until the free (None) slot is found."
   ]
  },
  {
   "cell_type": "markdown",
   "id": "11f523a8",
   "metadata": {
    "pycharm": {
     "name": "#%% md\n"
    }
   },
   "source": [
    "Let us insert 18 into the preliminary built tree.\n",
    "<table>\n",
    "    <tr>\n",
    "        <th  style=\"text-align:center\">Before insertion</th>\n",
    "        <th  style=\"text-align:center\">After insertion</th>\n",
    "    </tr>\n",
    "    <tr>\n",
    "        <td><img src='BST/1.png'></td>\n",
    "        <td><img src='BST/2.png'></td>\n",
    "    </tr>\n",
    "</table>"
   ]
  },
  {
   "cell_type": "markdown",
   "id": "18e9d03b",
   "metadata": {
    "pycharm": {
     "name": "#%% md\n"
    }
   },
   "source": [
    "Let us see the final tree. It is very skewed. The biggest difference of depths of subtrees is 5.\n",
    "<img src='BST/3.png'>"
   ]
  },
  {
   "cell_type": "markdown",
   "id": "57585af4",
   "metadata": {
    "pycharm": {
     "name": "#%% md\n"
    }
   },
   "source": [
    "Let us simulate search for 34. We see that there are 6 comparisons performed.\n",
    "<img src='BST/4.png'>"
   ]
  },
  {
   "cell_type": "markdown",
   "id": "dd21a3ce",
   "metadata": {
    "pycharm": {
     "name": "#%% md\n"
    }
   },
   "source": [
    "## Exercise 3"
   ]
  },
  {
   "cell_type": "markdown",
   "id": "75267396",
   "metadata": {
    "pycharm": {
     "name": "#%% md\n"
    }
   },
   "source": [
    "Let us insert the same values into the AVL Tree.  \n",
    "We shall show only the steps when balancing is performed."
   ]
  },
  {
   "cell_type": "markdown",
   "id": "8cf4169f",
   "metadata": {
    "pycharm": {
     "name": "#%% md\n"
    }
   },
   "source": [
    "1. Inserting 7. The difference of heights in the root node is now +2, so re-balancing is needed. It is the Right-Right case, so we do Left Rotation aroung the grandfather.\n",
    "\n",
    "<table>\n",
    "    <tr>\n",
    "        <th  style=\"text-align:center\">Before balancing</th>\n",
    "        <th  style=\"text-align:center\">After balancing</th>\n",
    "    </tr>\n",
    "    <tr>\n",
    "        <td><img src='AVL/1.png'></td>\n",
    "        <td><img src='AVL/1_bal.png'></td>\n",
    "    </tr>\n",
    "</table>"
   ]
  },
  {
   "cell_type": "markdown",
   "id": "c04965ee",
   "metadata": {
    "pycharm": {
     "name": "#%% md\n"
    }
   },
   "source": [
    "2. Inserting 4. The difference of heights in the node 1 is now +2, so re-balancing is needed. It is the Right-Right case, so we do Left Rotation aroung the grandfather.\n",
    "\n",
    "<table>\n",
    "    <tr>\n",
    "        <th  style=\"text-align:center\">Before balancing</th>\n",
    "        <th  style=\"text-align:center\">After balancing</th>\n",
    "    </tr>\n",
    "    <tr>\n",
    "        <td><img src='AVL/2.png'></td>\n",
    "        <td><img src='AVL/2_bal.png'></td>\n",
    "    </tr>\n",
    "</table>"
   ]
  },
  {
   "cell_type": "markdown",
   "id": "ce1c9be7",
   "metadata": {
    "pycharm": {
     "name": "#%% md\n"
    }
   },
   "source": [
    "3. Inserting 18. The difference of heights in the node 7 is now +2, so re-balancing is needed. It is the Right-Left case, so at first we do Right Rotation aroung the father and then Left Rotation around the grandfather.\n",
    "\n",
    "<table>\n",
    "    <tr>\n",
    "        <th  style=\"text-align:center\">Before balancing</th>\n",
    "        <th  style=\"text-align:center\">After balancing</th>\n",
    "    </tr>\n",
    "    <tr>\n",
    "        <td><img src='AVL/3.png'></td>\n",
    "        <td><img src='AVL/3_bal.png'></td>\n",
    "    </tr>\n",
    "</table>"
   ]
  },
  {
   "cell_type": "markdown",
   "id": "20d25e49",
   "metadata": {
    "pycharm": {
     "name": "#%% md\n"
    }
   },
   "source": [
    "4. Inserting 34. The difference of heights in the node 30 is now +2, so re-balancing is needed. It is the Right-Right case, so we do Left Rotation aroung the grandfather.\n",
    "\n",
    "<table>\n",
    "    <tr>\n",
    "        <th  style=\"text-align:center\">Before balancing</th>\n",
    "        <th  style=\"text-align:center\">After balancing</th>\n",
    "    </tr>\n",
    "    <tr>\n",
    "        <td><img src='AVL/4.png'></td>\n",
    "        <td><img src='AVL/4_bal.png'></td>\n",
    "    </tr>\n",
    "</table>"
   ]
  },
  {
   "cell_type": "markdown",
   "id": "00a8890b",
   "metadata": {
    "pycharm": {
     "name": "#%% md\n"
    }
   },
   "source": [
    "5. Inserting 36. The difference of heights in the node 18 is now +2, so re-balancing is needed. It is the Right-Right case, so we do Left Rotation of grandfather aroung the great-grandfather.\n",
    "\n",
    "<table>\n",
    "    <tr>\n",
    "        <th  style=\"text-align:center\">Before balancing</th>\n",
    "        <th  style=\"text-align:center\">After balancing</th>\n",
    "    </tr>\n",
    "    <tr>\n",
    "        <td><img src='AVL/5.png'></td>\n",
    "        <td><img src='AVL/5_bal.png'></td>\n",
    "    </tr>\n",
    "</table>"
   ]
  },
  {
   "cell_type": "markdown",
   "id": "2a1f833a",
   "metadata": {
    "pycharm": {
     "name": "#%% md\n"
    }
   },
   "source": [
    "Let us search for 34. We see that there are 3 comparisons performed.\n",
    "<img src='AVL/search.png'>"
   ]
  },
  {
   "cell_type": "markdown",
   "id": "d6fb4504",
   "metadata": {
    "pycharm": {
     "name": "#%% md\n"
    }
   },
   "source": [
    "## Exercise 4"
   ]
  },
  {
   "cell_type": "markdown",
   "id": "25f0fe8a",
   "metadata": {
    "pycharm": {
     "name": "#%% md\n"
    }
   },
   "source": [
    "Let us insert the same values into the Red-Black Tree."
   ]
  },
  {
   "cell_type": "markdown",
   "id": "b96dd0d2",
   "metadata": {
    "pycharm": {
     "name": "#%% md\n"
    }
   },
   "source": [
    "1. Inserting 1 and 5. The root is always black. The new node is always red.\n",
    "\n",
    "<table>\n",
    "    <tr>\n",
    "        <th  style=\"text-align:center\">Inserting 1</th>\n",
    "        <th  style=\"text-align:center\">Inserting 5</th>\n",
    "    </tr>\n",
    "    <tr>\n",
    "        <td><img src='RB/1.png'></td>\n",
    "        <td><img src='RB/2.png'></td>\n",
    "    </tr>\n",
    "</table>"
   ]
  },
  {
   "cell_type": "markdown",
   "id": "bdef776a",
   "metadata": {
    "pycharm": {
     "name": "#%% md\n"
    }
   },
   "source": [
    "2. Inserting 7. There are two adjacent red nodes, so re-balancing is needed. The uncle is black and configuration is Right-Right, so we do Left Rotation around the grandfather and swap colors.\n",
    "\n",
    "<table>\n",
    "    <tr>\n",
    "        <th  style=\"text-align:center\">Before balancing</th>\n",
    "        <th  style=\"text-align:center\">After balancing</th>\n",
    "    </tr>\n",
    "    <tr>\n",
    "        <td><img src='RB/3.png'></td>\n",
    "        <td><img src='RB/3_bal.png'></td>\n",
    "    </tr>\n",
    "</table>"
   ]
  },
  {
   "cell_type": "markdown",
   "id": "ac956847",
   "metadata": {
    "pycharm": {
     "name": "#%% md\n"
    }
   },
   "source": [
    "3. Inserting 30. There are two adjacent red nodes, so re-balancing is needed. The uncle is red, so we can just swap colors. Additionally, we re-color the root in black.\n",
    "\n",
    "<table>\n",
    "    <tr>\n",
    "        <th  style=\"text-align:center\">Before balancing</th>\n",
    "        <th  style=\"text-align:center\">After balancing</th>\n",
    "    </tr>\n",
    "    <tr>\n",
    "        <td><img src='RB/4.png'></td>\n",
    "        <td><img src='RB/4_bal.png'></td>\n",
    "    </tr>\n",
    "</table>"
   ]
  },
  {
   "cell_type": "markdown",
   "id": "c2dc4fcf",
   "metadata": {
    "pycharm": {
     "name": "#%% md\n"
    }
   },
   "source": [
    "4. Inserting 2. No re-balance needed.\n",
    "\n",
    "<table>\n",
    "    <tr>\n",
    "        <th  style=\"text-align:center\">Before inserting 2</th>\n",
    "        <th  style=\"text-align:center\">After inserting 2</th>\n",
    "    </tr>\n",
    "    <tr>\n",
    "        <td><img src='RB/4_bal.png'></td>\n",
    "        <td><img src='RB/5.png'></td>\n",
    "    </tr>\n",
    "</table>"
   ]
  },
  {
   "cell_type": "markdown",
   "id": "0077924a",
   "metadata": {
    "pycharm": {
     "name": "#%% md\n"
    }
   },
   "source": [
    "5. Inserting 4. There are two adjacent red nodes, so re-balancing is needed. The uncle is black and configuration is Right-Right, so we do Left Rotation around the grandfather and swap colors.\n",
    "\n",
    "<table>\n",
    "    <tr>\n",
    "        <th  style=\"text-align:center\">Before balancing</th>\n",
    "        <th  style=\"text-align:center\">After balancing</th>\n",
    "    </tr>\n",
    "    <tr>\n",
    "        <td><img src='RB/6.png'></td>\n",
    "        <td><img src='RB/6_bal.png'></td>\n",
    "    </tr>\n",
    "</table>"
   ]
  },
  {
   "cell_type": "markdown",
   "id": "5091646f",
   "metadata": {
    "pycharm": {
     "name": "#%% md\n"
    }
   },
   "source": [
    "6. Inserting 18. There are two adjacent red nodes, so re-balancing is needed. The uncle is black and configuration is Right-Left, so at first we do Right Rotation around the father, then Left Rotation around the grandfather and then swap colors.\n",
    "\n",
    "<table>\n",
    "    <tr>\n",
    "        <th  style=\"text-align:center\">Before balancing</th>\n",
    "        <th  style=\"text-align:center\">After balancing</th>\n",
    "    </tr>\n",
    "    <tr>\n",
    "        <td><img src='RB/7.png'></td>\n",
    "        <td><img src='RB/7_bal.png'></td>\n",
    "    </tr>\n",
    "</table>"
   ]
  },
  {
   "cell_type": "markdown",
   "id": "c3e3feb8",
   "metadata": {
    "pycharm": {
     "name": "#%% md\n"
    }
   },
   "source": [
    "7. Inserting 32. There are two adjacent red nodes, so re-balancing is needed. The uncle is red, so we can just swap colors.\n",
    "\n",
    "<table>\n",
    "    <tr>\n",
    "        <th  style=\"text-align:center\">Before balancing</th>\n",
    "        <th  style=\"text-align:center\">After balancing</th>\n",
    "    </tr>\n",
    "    <tr>\n",
    "        <td><img src='RB/8.png'></td>\n",
    "        <td><img src='RB/8_bal.png'></td>\n",
    "    </tr>\n",
    "</table>"
   ]
  },
  {
   "cell_type": "markdown",
   "id": "90c6d714",
   "metadata": {
    "pycharm": {
     "name": "#%% md\n"
    }
   },
   "source": [
    "8. Inserting 34. There are two adjacent red nodes, so re-balancing is needed. The uncle is black and configuration is Right-Right, so we do Left Rotation around the grandfather and swap colors.\n",
    "\n",
    "<table>\n",
    "    <tr>\n",
    "        <th  style=\"text-align:center\">Before balancing</th>\n",
    "        <th  style=\"text-align:center\">After balancing</th>\n",
    "    </tr>\n",
    "    <tr>\n",
    "        <td><img src='RB/9.png'></td>\n",
    "        <td><img src='RB/9_bal.png'></td>\n",
    "    </tr>\n",
    "</table>"
   ]
  },
  {
   "cell_type": "markdown",
   "id": "6ca03f45",
   "metadata": {
    "pycharm": {
     "name": "#%% md\n"
    }
   },
   "source": [
    "9. Inserting 36. There are two adjacent red nodes, so re-balancing is needed. The uncle is red, so we can just swap colors.\n",
    "\n",
    "<table>\n",
    "    <tr>\n",
    "        <th  style=\"text-align:center\">Before first balancing</th>\n",
    "        <th  style=\"text-align:center\">After first balancing</th>\n",
    "    </tr>\n",
    "    <tr>\n",
    "        <td><img src='RB/10.png'></td>\n",
    "        <td><img src='RB/10_inter.png'></td>\n",
    "    </tr>\n",
    "</table>"
   ]
  },
  {
   "cell_type": "markdown",
   "id": "7a4acf49",
   "metadata": {
    "pycharm": {
     "name": "#%% md\n"
    }
   },
   "source": [
    "Now, let us consider the grandfather. There are two adjacent red nodes, so re-balancing is needed. The uncle is black and configuration is Right-Right, so we do Left Rotation around the grandfather and swap colors.\n",
    "\n",
    "<table>\n",
    "    <tr>\n",
    "        <th  style=\"text-align:center\">Before second balancing</th>\n",
    "        <th  style=\"text-align:center\">After second balancing</th>\n",
    "    </tr>\n",
    "    <tr>\n",
    "        <td><img src='RB/10_inter.png'></td>\n",
    "        <td><img src='RB/10_bal.png'></td>\n",
    "    </tr>\n",
    "</table>"
   ]
  },
  {
   "cell_type": "markdown",
   "id": "91810828",
   "metadata": {
    "pycharm": {
     "name": "#%% md\n"
    }
   },
   "source": [
    "Let us search for 34. We see that there are 3 comparisons performed.\n",
    "<img src='RB/search.png'>"
   ]
  },
  {
   "cell_type": "markdown",
   "id": "3e954cf3",
   "metadata": {
    "pycharm": {
     "name": "#%% md\n"
    }
   },
   "source": [
    "## Exercise 5"
   ]
  },
  {
   "cell_type": "markdown",
   "id": "f774985c",
   "metadata": {
    "pycharm": {
     "name": "#%% md\n"
    }
   },
   "source": [
    "Let us write a program to build a K-d (2D) Tree, plot it and perform a search of points in an arbitrary interval."
   ]
  },
  {
   "cell_type": "code",
   "execution_count": 167,
   "id": "47b3680f",
   "metadata": {
    "pycharm": {
     "name": "#%%\n"
    }
   },
   "outputs": [],
   "source": [
    "import matplotlib.pyplot as plt\n",
    "import numpy as np\n",
    "import operator\n",
    "\n",
    "from collections import deque"
   ]
  },
  {
   "cell_type": "code",
   "execution_count": 174,
   "id": "08b5d708",
   "metadata": {
    "pycharm": {
     "name": "#%%\n"
    }
   },
   "outputs": [],
   "source": [
    "class KdNode:\n",
    "    \n",
    "    def __init__(self, point, dim, left, right):\n",
    "        self.point = point\n",
    "        self.dim = dim\n",
    "        self.left = left\n",
    "        self.right = right\n",
    "        \n",
    "    def __str__(self, level=0, is_left=None) :\n",
    "        string = \"            \" * level\n",
    "        \n",
    "        if is_left is not None:\n",
    "            if is_left:\n",
    "                string += \"l: \"\n",
    "            else:\n",
    "                string += \"r: \"\n",
    "        else:\n",
    "            string += \"root: \"\n",
    "        \n",
    "        string += f\"({self.point[0]}, {self.point[1]})\" + \"\\n\"\n",
    "        \n",
    "        if self.left is not None:\n",
    "            string += self.left.__str__(level + 1, True)\n",
    "        if self.right is not None:\n",
    "            string += self.right.__str__(level + 1, False)\n",
    "            \n",
    "        return string\n",
    "\n",
    "\n",
    "class KdTree:\n",
    "\n",
    "    def __init__(self, points, bounds):\n",
    "        self.root = KdTree.build_recursive(0, points)\n",
    "        self.bounds = bounds\n",
    "\n",
    "    def build_recursive(dim, points):\n",
    "            if len(points) == 0:\n",
    "                return None\n",
    "            \n",
    "            points.sort(key=operator.itemgetter(dim))\n",
    "            m = len(points) // 2\n",
    "            median = points[m]\n",
    "            while m + 1 < len(points) and points[m + 1][dim] == median[dim]:\n",
    "                m += 1\n",
    "            median = points[m]\n",
    "\n",
    "\n",
    "            dim2 = (dim + 1) % 2\n",
    "            return KdNode(median, dim, KdTree.build_recursive(dim2, points[:m]), \n",
    "                                       KdTree.build_recursive(dim2, points[(m + 1):]))\n",
    "        \n",
    "    def seek_interval(self, xbounds, ybounds):\n",
    "        result = []\n",
    "        bounds = [xbounds, ybounds]\n",
    "        unvisited = deque()\n",
    "        unvisited.append(self.root)\n",
    "        \n",
    "        while len(unvisited) != 0:\n",
    "            current = unvisited.popleft()\n",
    "            dim = current.dim\n",
    "            \n",
    "            if current.point[dim] < bounds[dim][0]:\n",
    "                if current.right is not None:\n",
    "                    unvisited.append(current.right)\n",
    "            elif current.point[dim] > bounds[dim][1]:\n",
    "                if current.left is not None:\n",
    "                    unvisited.append(current.left)\n",
    "            else:\n",
    "                dim = (dim + 1) % 2\n",
    "                if bounds[dim][0] <= current.point[dim] <= bounds[dim][1]:\n",
    "                    result.append(current.point)\n",
    "                if current.left is not None:\n",
    "                    unvisited.append(current.left)\n",
    "                if current.right is not None:\n",
    "                    unvisited.append(current.right)\n",
    "        \n",
    "        return result\n",
    "        \n",
    "    def plot(self):\n",
    "        plt.rcParams[\"figure.figsize\"] = (10, 10)\n",
    "        plt.xlabel('x')\n",
    "        plt.ylabel('y')\n",
    "        plt.title('2D Tree')\n",
    "        \n",
    "        plt.xlim(self.bounds)\n",
    "        plt.ylim(self.bounds)\n",
    "        \n",
    "        if self.root is None:\n",
    "            return\n",
    "        \n",
    "        KdTree.plot_recursive(self, self.root, self.bounds, self.bounds)\n",
    "        plt.show()\n",
    "    \n",
    "    def plot_recursive(self, current, xbounds, ybounds):\n",
    "        if current is None:\n",
    "            return\n",
    "        \n",
    "        if current.dim == 0:\n",
    "            KdTree.plot_recursive(self, current.left, [xbounds[0], current.point[0]], ybounds)\n",
    "            KdTree.plot_recursive(self, current.right, [current.point[0], xbounds[1]], ybounds)\n",
    "            plt.plot([current.point[0], current.point[0]], [ybounds[0], ybounds[1]], color='blue')\n",
    "        else:\n",
    "            KdTree.plot_recursive(self, current.left, xbounds, [ybounds[0], current.point[1]])\n",
    "            KdTree.plot_recursive(self, current.right, xbounds, [current.point[1], ybounds[1]])\n",
    "            plt.plot([xbounds[0], xbounds[1]], [current.point[1], current.point[1]], color='red')\n",
    "            \n",
    "    def __repr__(self):\n",
    "        return str(self.root)"
   ]
  },
  {
   "cell_type": "markdown",
   "id": "c4ab1fe7",
   "metadata": {
    "pycharm": {
     "name": "#%% md\n"
    }
   },
   "source": [
    "Let us plot the final tree."
   ]
  },
  {
   "cell_type": "code",
   "execution_count": 176,
   "id": "53835f70",
   "metadata": {
    "pycharm": {
     "name": "#%%\n"
    }
   },
   "outputs": [],
   "source": [
    "points = [(0.67, 0.23), (0.06, 0.98), (0.28, 0.23), (0.83, 0.29), (0.83, 0.53), (0.78, 0.04), (0.94, 0.2),\n",
    "          (0.15, 0.29), (0.96, 0.92), (0.88, 1.0), (0.64, 0.78), (0.81, 0.41), (0.04, 0.87), (0.21, 0.05), \n",
    "          (0.81, 0.93), (0.47, 0.66), (0.85, 0.64), (0.98, 0.78), (0.73, 0.04), (0.08, 0.11)]"
   ]
  },
  {
   "cell_type": "code",
   "execution_count": 177,
   "id": "12f8d1a8",
   "metadata": {
    "pycharm": {
     "name": "#%%\n"
    }
   },
   "outputs": [
    {
     "data": {
      "image/png": "[encoded data removed]",
      "text/plain": [
       "<Figure size 720x720 with 1 Axes>"
      ]
     },
     "metadata": {
      "needs_background": "light"
     },
     "output_type": "display_data"
    }
   ],
   "source": [
    "tree = KdTree(points, (0.0, 1.05))\n",
    "np_points = np.array(points)\n",
    "plt.scatter(np_points[:, 0], np_points[:, 1], s=50, color='green')\n",
    "tree.plot()"
   ]
  },
  {
   "cell_type": "code",
   "execution_count": 178,
   "id": "70b033ff",
   "metadata": {
    "pycharm": {
     "name": "#%%\n"
    }
   },
   "outputs": [
    {
     "name": "stdout",
     "output_type": "stream",
     "text": [
      "root: (0.78, 0.04)\n",
      "            l: (0.15, 0.29)\n",
      "                        l: (0.28, 0.23)\n",
      "                                    l: (0.08, 0.11)\n",
      "                                                l: (0.21, 0.05)\n",
      "                                    r: (0.67, 0.23)\n",
      "                                                l: (0.73, 0.04)\n",
      "                        r: (0.47, 0.66)\n",
      "                                    l: (0.06, 0.98)\n",
      "                                                l: (0.04, 0.87)\n",
      "                                    r: (0.64, 0.78)\n",
      "            r: (0.85, 0.64)\n",
      "                        l: (0.83, 0.53)\n",
      "                                    l: (0.81, 0.41)\n",
      "                                                l: (0.83, 0.29)\n",
      "                                    r: (0.94, 0.2)\n",
      "                        r: (0.96, 0.92)\n",
      "                                    l: (0.88, 1.0)\n",
      "                                                l: (0.81, 0.93)\n",
      "                                    r: (0.98, 0.78)\n",
      "\n"
     ]
    }
   ],
   "source": [
    "print(tree)"
   ]
  },
  {
   "cell_type": "markdown",
   "id": "8797db70",
   "metadata": {
    "pycharm": {
     "name": "#%% md\n"
    }
   },
   "source": [
    "Let us perform a search of points in the interval [[0, 0.5], [0, 0.5]]."
   ]
  },
  {
   "cell_type": "code",
   "execution_count": 190,
   "id": "f688976d",
   "metadata": {
    "pycharm": {
     "name": "#%%\n"
    }
   },
   "outputs": [
    {
     "data": {
      "image/png": "[encoded data removed]",
      "text/plain": [
       "<Figure size 720x720 with 1 Axes>"
      ]
     },
     "metadata": {
      "needs_background": "light"
     },
     "output_type": "display_data"
    }
   ],
   "source": [
    "found = np.array(tree.seek_interval([0, 0.5], [0, 0.5]))\n",
    "\n",
    "plt.gca().add_patch(plt.Rectangle([0, 0], 0.5, 0.5, facecolor='yellow', alpha=0.5, fill=True))\n",
    "plt.scatter(np_points[:, 0], np_points[:, 1], s=50, color='green')\n",
    "plt.scatter(found[:, 0], found[:, 1], s=200, color='orange')\n",
    "tree.plot()"
   ]
  },
  {
   "cell_type": "markdown",
   "id": "079a6a2a",
   "metadata": {
    "pycharm": {
     "name": "#%% md\n"
    }
   },
   "source": [
    "## Exercise 6"
   ]
  },
  {
   "cell_type": "markdown",
   "id": "dca9d2f6",
   "metadata": {
    "pycharm": {
     "name": "#%% md\n"
    }
   },
   "source": [
    "Let us write a program to build the Binary Search Tree and perform insertion and search. "
   ]
  },
  {
   "cell_type": "code",
   "execution_count": 228,
   "id": "2645855c",
   "metadata": {
    "pycharm": {
     "name": "#%%\n"
    }
   },
   "outputs": [],
   "source": [
    "class Node:\n",
    "    \n",
    "    def __init__(self, value):\n",
    "        self.value = value\n",
    "        self.left = None\n",
    "        self.right = None\n",
    "        \n",
    "    def __str__(self, level=0, is_left=None) :\n",
    "        string = \"  \" * level\n",
    "        \n",
    "        if is_left is not None:\n",
    "            if is_left:\n",
    "                string += \"l: \"\n",
    "            else:\n",
    "                string += \"r: \"\n",
    "        else:\n",
    "            string += \"root: \"\n",
    "        \n",
    "        string += str(self.value) + \"\\n\"\n",
    "        \n",
    "        if self.left is not None:\n",
    "            string += self.left.__str__(level + 1, True)\n",
    "        if self.right is not None:\n",
    "            string += self.right.__str__(level + 1, False)\n",
    "            \n",
    "        return string\n",
    "\n",
    "\n",
    "\n",
    "class BST:\n",
    "    \n",
    "    def __init__(self):\n",
    "        self.root = None\n",
    "    \n",
    "    def append(self, value):\n",
    "        if self.root is None:\n",
    "            self.root = Node(value)\n",
    "            return\n",
    "        \n",
    "        node = Node(value)\n",
    "        current = self.root\n",
    "        \n",
    "        while True:\n",
    "            if value < current.value:\n",
    "                if current.left is None:\n",
    "                    current.left = node\n",
    "                    return True\n",
    "                else:\n",
    "                    current = current.left\n",
    "            elif value > current.value:\n",
    "                if current.right is None:\n",
    "                    current.right = node\n",
    "                    return True\n",
    "                else:\n",
    "                    current = current.right\n",
    "            else:\n",
    "                return False\n",
    "        \n",
    "    def contains(self, value):\n",
    "        if self.root is None:\n",
    "            return False\n",
    "        \n",
    "        current = self.root\n",
    "        \n",
    "        while current is not None:\n",
    "            if value < current.value:\n",
    "                    current = current.left\n",
    "            elif value > current.value:\n",
    "                    current = current.right\n",
    "            else:\n",
    "                return True\n",
    "        \n",
    "        return False\n",
    "    \n",
    "    def height(self):\n",
    "        return BST.max_subtree_height(self.root)\n",
    "        \n",
    "    def max_subtree_height(root):\n",
    "        if root is None:\n",
    "            return 0\n",
    "        return np.max([BST.max_subtree_height(root.left), BST.max_subtree_height(root.right)]) + 1\n",
    "    \n",
    "    def __repr__(self):\n",
    "        return str(self.root)"
   ]
  },
  {
   "cell_type": "markdown",
   "id": "94817aab",
   "metadata": {
    "pycharm": {
     "name": "#%% md\n"
    }
   },
   "source": [
    "Let us insert random values and check correctness of our implementation."
   ]
  },
  {
   "cell_type": "code",
   "execution_count": 229,
   "id": "42e7331b",
   "metadata": {
    "pycharm": {
     "name": "#%%\n"
    }
   },
   "outputs": [],
   "source": [
    "np.random.seed(201)"
   ]
  },
  {
   "cell_type": "code",
   "execution_count": 230,
   "id": "2dfc3fe6",
   "metadata": {
    "pycharm": {
     "name": "#%%\n"
    }
   },
   "outputs": [
    {
     "name": "stdout",
     "output_type": "stream",
     "text": [
      "---BST---\n",
      "root: 2\n",
      "  l: 1\n",
      "    l: 0\n",
      "  r: 3\n",
      "    r: 4\n",
      "\n",
      "Height: 3\n"
     ]
    }
   ],
   "source": [
    "bst = BST()\n",
    "\n",
    "values = np.arange(5)\n",
    "np.random.shuffle(values)\n",
    "\n",
    "for x in values:\n",
    "    bst.append(x)\n",
    "\n",
    "print('---BST---')\n",
    "print(bst)\n",
    "print(f\"Height: {bst.height()}\")"
   ]
  },
  {
   "cell_type": "code",
   "execution_count": 218,
   "id": "8e8e60f3",
   "metadata": {
    "pycharm": {
     "name": "#%%\n"
    }
   },
   "outputs": [
    {
     "name": "stdout",
     "output_type": "stream",
     "text": [
      "BST contanins 0: True\n",
      "BST contains 200: False\n"
     ]
    }
   ],
   "source": [
    "print(f\"BST contanins 0: {bst.contains(0)}\")\n",
    "print(f\"BST contains 200: {bst.contains(200)}\")"
   ]
  },
  {
   "cell_type": "markdown",
   "id": "a1564ce6",
   "metadata": {
    "pycharm": {
     "name": "#%% md\n"
    }
   },
   "source": [
    "Let us find the average height of a tree containing 1000 nodes. We shall take an average result of 1000 experiments, where we insert randomly shuffled range of values of size 1000."
   ]
  },
  {
   "cell_type": "code",
   "execution_count": 233,
   "id": "29f71a50",
   "metadata": {
    "pycharm": {
     "name": "#%%\n"
    }
   },
   "outputs": [
    {
     "name": "stdout",
     "output_type": "stream",
     "text": [
      "Average BST height (1000 values) over 1000 random shuffles: 22\n"
     ]
    }
   ],
   "source": [
    "n_values = 1000\n",
    "n_tests = 1000\n",
    "heights = [0] * n_tests\n",
    "\n",
    "values = np.arange(n_values)\n",
    "\n",
    "for i in range(n_tests):\n",
    "    bst = BST()\n",
    "    np.random.shuffle(values)\n",
    "    \n",
    "    for x in values:\n",
    "        bst.append(x)\n",
    "    \n",
    "    heights[i] = bst.height()\n",
    "\n",
    "print(f\"Average BST height ({n_values} values) over {n_tests} random shuffles: {int(round(np.mean(heights), 1))}\")"
   ]
  },
  {
   "cell_type": "markdown",
   "id": "0987803b",
   "metadata": {
    "pycharm": {
     "name": "#%% md\n"
    }
   },
   "source": [
    "So, the average height is 22. It is far more than the optimal (balanced) tree height $\\log_2 1000 + 1 \\thickapprox 11$."
   ]
  },
  {
   "cell_type": "markdown",
   "id": "e0350658",
   "metadata": {
    "pycharm": {
     "name": "#%% md\n"
    }
   },
   "source": [
    "Let us see the distribution of heights in the experiment."
   ]
  },
  {
   "cell_type": "code",
   "execution_count": 240,
   "id": "06bd2572",
   "metadata": {
    "pycharm": {
     "name": "#%%\n"
    }
   },
   "outputs": [
    {
     "data": {
      "image/png": "[encoded data removed]",
      "text/plain": [
       "<Figure size 720x576 with 1 Axes>"
      ]
     },
     "metadata": {
      "needs_background": "light"
     },
     "output_type": "display_data"
    }
   ],
   "source": [
    "distribution = np.bincount(heights)\n",
    "\n",
    "plt.rcParams[\"figure.figsize\"] = (10, 8)\n",
    "plt.xlabel('height')\n",
    "plt.ylabel('number of trees')\n",
    "plt.title(f\"Distribution of Heights of Trees of {n_values} Elements\")\n",
    "\n",
    "labels = [str(i) for i in range(10, len(distribution))]\n",
    "x = np.arange(10, len(distribution))\n",
    "distribution = distribution[10:]\n",
    "\n",
    "rects = plt.bar(x, distribution, color=['orange', 'blue'])\n",
    "plt.xticks(x, labels)\n",
    "plt.bar_label(rects, padding=3)\n",
    "\n",
    "plt.tight_layout()\n",
    "plt.show()"
   ]
  },
  {
   "cell_type": "markdown",
   "id": "802ae743",
   "metadata": {
    "pycharm": {
     "name": "#%% md\n"
    }
   },
   "source": [
    "We see that there has been no configuration even close to the optimal one with height 11."
   ]
  },
  {
   "cell_type": "markdown",
   "id": "3ad9f826",
   "metadata": {
    "pycharm": {
     "name": "#%% md\n"
    }
   },
   "source": [
    "Let us plot the average tree height over the size of the tree."
   ]
  },
  {
   "cell_type": "code",
   "execution_count": 241,
   "id": "16cd8c83",
   "metadata": {
    "pycharm": {
     "name": "#%%\n"
    }
   },
   "outputs": [],
   "source": [
    "n_tests = 20\n",
    "n_values = [i * 500 for i in range(1, n_tests + 1)]\n",
    "n_attempts = 10\n",
    "heights = [0] * n_tests\n",
    "\n",
    "for i in range(n_tests):\n",
    "    values = np.arange(n_values[i])\n",
    "    temp_heights = [0] * n_attempts\n",
    "    \n",
    "    for j in range(n_attempts):\n",
    "        bst = BST()\n",
    "        np.random.shuffle(values)\n",
    "    \n",
    "        for x in values:\n",
    "            bst.append(x)\n",
    "    \n",
    "        temp_heights[j] = bst.height()\n",
    "    \n",
    "    heights[i] = np.mean(temp_heights)"
   ]
  },
  {
   "cell_type": "code",
   "execution_count": 244,
   "id": "648709ae",
   "metadata": {
    "pycharm": {
     "name": "#%%\n"
    }
   },
   "outputs": [
    {
     "data": {
      "image/png": "[encoded data removed]",
      "text/plain": [
       "<Figure size 720x576 with 1 Axes>"
      ]
     },
     "metadata": {
      "needs_background": "light"
     },
     "output_type": "display_data"
    }
   ],
   "source": [
    "plt.plot(n_values, heights)\n",
    "plt.xlabel('tree size')\n",
    "plt.ylabel('average tree hight')\n",
    "plt.title('Dependency of Tree Height on Tree Size')\n",
    "plt.grid(True)\n",
    "\n",
    "plt.show()"
   ]
  },
  {
   "cell_type": "markdown",
   "id": "225999d9",
   "metadata": {
    "pycharm": {
     "name": "#%% md\n"
    }
   },
   "source": [
    "We see that the plot roughly resembles the log-function. Let us manually choose constants and compare the plots."
   ]
  },
  {
   "cell_type": "code",
   "execution_count": 267,
   "id": "dce86514",
   "metadata": {
    "pycharm": {
     "name": "#%%\n"
    }
   },
   "outputs": [
    {
     "data": {
      "image/png": "[encoded data removed]",
      "text/plain": [
       "<Figure size 720x576 with 1 Axes>"
      ]
     },
     "metadata": {
      "needs_background": "light"
     },
     "output_type": "display_data"
    }
   ],
   "source": [
    "plt.plot(n_values, heights)\n",
    "plt.plot(n_values, [2.2 * np.log2(x) for x in n_values], label='2.2log(n)')\n",
    "plt.xlabel('tree size')\n",
    "plt.ylabel('average tree hight')\n",
    "plt.title('Dependency of Tree Height on Tree Size')\n",
    "plt.grid(True)\n",
    "plt.legend()\n",
    "\n",
    "plt.show()"
   ]
  },
  {
   "cell_type": "markdown",
   "id": "a6e6341d",
   "metadata": {
    "pycharm": {
     "name": "#%% md\n"
    }
   },
   "source": [
    "## Exercise 7"
   ]
  },
  {
   "cell_type": "markdown",
   "id": "e3e51c87",
   "metadata": {
    "pycharm": {
     "name": "#%% md\n"
    }
   },
   "source": [
    "Let us only describe the strategies of stress-testing as the task requires it."
   ]
  },
  {
   "cell_type": "markdown",
   "id": "ca1a7d6c",
   "metadata": {
    "pycharm": {
     "name": "#%% md\n"
    }
   },
   "source": [
    "**General idea**  \n",
    "  \n",
    "Let us **enumerate the rungs** of the ladder from the lowest one as $0$ to the highest one as $n - 1$. If for arbitraty $0 \\leq k < n$ the glass cup dropped from $k$-th rung breaks, we will consider the the cup is \"less than\" the k-th rung. Otherwise the cup will be considered as \"greater than\" the k-th rung. Now, we can compile the rungs (the indices) in an **ordered list** and perform a **search of the \"closest left neighbour\"** of the cup (we have a **comparison function** described previously). For instance, we can do it with **binary search** for $O(\\log n)$ time.  \n",
    "  \n",
    "The problem is that the number of cups is limited. It means that without at least $\\log n + 1$ cups we risk to break all of them before finding the right rung. We should find the strategy that will allow us to **minimise the number of breaks**."
   ]
  },
  {
   "cell_type": "markdown",
   "id": "6a4c668a",
   "metadata": {
    "pycharm": {
     "name": "#%% md\n"
    }
   },
   "source": [
    "**k = 2**  \n",
    "  \n",
    "The workaround is a **skip-list with 2 levels**. Firstly, we search the rung in the express lane (a subset of rungs) until we find the greater element (break the cup) or reach the end. Then we continue the search in the normal lane successively until the cup is broken or we reach the end of the lane which both mean that the right rung is found. For all this, as we see, two cups are enough. The time complexity of such search is $O(\\log n)$, so we will drop the cups less than $A\\log n$ times for some constant $A$."
   ]
  },
  {
   "cell_type": "markdown",
   "id": "869d0301",
   "metadata": {
    "pycharm": {
     "name": "#%% md\n"
    }
   },
   "source": [
    "**k > 2**  \n",
    "  \n",
    "The workaround is a **skip-list with 2+ levels**. The strategy is the same: each cup is reserved for a certain lane."
   ]
  }
 ],
 "metadata": {
  "kernelspec": {
   "display_name": "Python 3 (ipykernel)",
   "language": "python",
   "name": "python3"
  },
  "language_info": {
   "codemirror_mode": {
    "name": "ipython",
    "version": 3
   },
   "file_extension": ".py",
   "mimetype": "text/x-python",
   "name": "python",
   "nbconvert_exporter": "python",
   "pygments_lexer": "ipython3",
   "version": "3.8.10"
  }
 },
 "nbformat": 4,
 "nbformat_minor": 5
}