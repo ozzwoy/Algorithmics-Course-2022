{
 "cells": [
  {
   "cell_type": "markdown",
   "id": "6e72fa9f",
   "metadata": {},
   "source": [
    "# Homework 7"
   ]
  },
  {
   "cell_type": "markdown",
   "id": "8073c342",
   "metadata": {},
   "source": [
    "## Exercise 1"
   ]
  },
  {
   "cell_type": "code",
   "execution_count": 1,
   "id": "c1d192c9",
   "metadata": {},
   "outputs": [],
   "source": [
    "import matplotlib.pyplot as plt\n",
    "import numpy as np\n",
    "import random\n",
    "import urllib\n",
    "\n",
    "from primesieve import nth_prime"
   ]
  },
  {
   "cell_type": "code",
   "execution_count": 2,
   "id": "29ee9d72",
   "metadata": {},
   "outputs": [],
   "source": [
    "random.seed(3536)"
   ]
  },
  {
   "cell_type": "code",
   "execution_count": 45,
   "id": "d2186738",
   "metadata": {},
   "outputs": [],
   "source": [
    "class HashTable:\n",
    "    \n",
    "    def __init__(self, m, p):\n",
    "        self.m = m\n",
    "        self.p = p\n",
    "        self.table = [None] * m\n",
    "        self.a = random.randint(1, p - 1)\n",
    "        self.b = random.randint(0, p - 1)\n",
    "        \n",
    "    def get_coefs(self):\n",
    "        return self.a, self.b\n",
    "    \n",
    "    def set_coefs(self, a, b):\n",
    "        self.a = a\n",
    "        self.b = b\n",
    "        \n",
    "    def hash_(self, key):\n",
    "        return ((self.a * key + self.b) % self.p) % self.m\n",
    "    \n",
    "    def insert(self, keys):\n",
    "        for key in keys:\n",
    "            index = self.hash_(key)\n",
    "        \n",
    "            if self.table[index] is None:\n",
    "                self.table[index] = [key]\n",
    "            else:\n",
    "                self.table[index].append(key)\n",
    "        \n",
    "    def get_collisions_num(self):\n",
    "        n = 0\n",
    "        \n",
    "        for slot in self.table:\n",
    "            if slot is not None and len(slot) > 1:\n",
    "                n += len(slot) - 1\n",
    "        \n",
    "        return n\n",
    "    \n",
    "    def get_max_collisions(self):\n",
    "        max_ = np.max([len(e) for e in self.table if e is not None])\n",
    "        return max_ - 1"
   ]
  },
  {
   "cell_type": "markdown",
   "id": "4c9598bd",
   "metadata": {},
   "source": [
    "Let's check if our hash table works properly. Choose constants $p=17$ and $m=6$."
   ]
  },
  {
   "cell_type": "code",
   "execution_count": 39,
   "id": "a1ee0022",
   "metadata": {},
   "outputs": [
    {
     "name": "stdout",
     "output_type": "stream",
     "text": [
      "h(3) = 5 (should be 5).\n",
      "h(28) = 3 (should be 3).\n",
      "h(3) = 3 (should be 3).\n"
     ]
    }
   ],
   "source": [
    "p = 17\n",
    "m = 6\n",
    "\n",
    "h57 = HashTable(m, p)\n",
    "h57.set_coefs(5, 7)\n",
    "print(f\"h(3) = {h57.hash_(3)} (should be 5).\")\n",
    "\n",
    "h34 = HashTable(m, p)\n",
    "h34.set_coefs(3, 4)\n",
    "print(f\"h(28) = {h34.hash_(28)} (should be 3).\")\n",
    "\n",
    "h102 = HashTable(m, p)\n",
    "h102.set_coefs(10, 2)\n",
    "print(f\"h(3) = {h102.hash_(3)} (should be 3).\")"
   ]
  },
  {
   "cell_type": "markdown",
   "id": "ef893770",
   "metadata": {},
   "source": [
    "The universal hashing works fine! Let's proceed with plots."
   ]
  },
  {
   "cell_type": "code",
   "execution_count": 40,
   "id": "ea834915",
   "metadata": {},
   "outputs": [],
   "source": [
    "def get_data(url):\n",
    "    data = []\n",
    "    \n",
    "    with urllib.request.urlopen(url) as file:\n",
    "        for line in file:\n",
    "            data.append(int(line))\n",
    "    \n",
    "    return data"
   ]
  },
  {
   "cell_type": "code",
   "execution_count": 41,
   "id": "3ef410a5",
   "metadata": {},
   "outputs": [],
   "source": [
    "def test_collisions(n_iterations, table_size, keys):\n",
    "    results = [[]] * n_iterations\n",
    "    \n",
    "    for i in range(n_iterations):\n",
    "        # the 200_000th prime number is 2_750_159\n",
    "        p = nth_prime(random.randint(200_000, 1_000_000))\n",
    "        \n",
    "        table = HashTable(table_size, p)\n",
    "        table.insert(keys)\n",
    "        \n",
    "        results[i] = {'total': table.get_collisions_num(), \n",
    "                      'max': table.get_max_collisions(),\n",
    "                      'coefs': (table_size, p, table.get_coefs()[0], table.get_coefs()[1])\n",
    "                     }\n",
    "    \n",
    "    return results"
   ]
  },
  {
   "cell_type": "code",
   "execution_count": 42,
   "id": "03d63fb0",
   "metadata": {},
   "outputs": [],
   "source": [
    "def plot_collisions_bars(sizes, n_collisions):\n",
    "    plt.rcParams[\"figure.figsize\"] = (10, 8)\n",
    "    plt.xlabel('table size')\n",
    "    plt.ylabel('average number of collisions')\n",
    "    plt.title('Average number of collisions for hash tables with random parameters')\n",
    "\n",
    "    labels = [str(size) for size in sizes]\n",
    "    rects = plt.bar(labels, n_collisions, color=['darkred', 'darkblue', 'darkgreen', 'darkmagenta'])\n",
    "    plt.bar_label(rects, padding=3)\n",
    "\n",
    "    plt.tight_layout()\n",
    "    plt.show()"
   ]
  },
  {
   "cell_type": "code",
   "execution_count": 43,
   "id": "4ad96c1a",
   "metadata": {},
   "outputs": [
    {
     "name": "stdout",
     "output_type": "stream",
     "text": [
      "1000\n"
     ]
    }
   ],
   "source": [
    "keys = get_data('https://courses.cs.ut.ee/MTAT.03.238/2022_fall/uploads/Main/1000_keys.txt')\n",
    "print(len(keys))"
   ]
  },
  {
   "cell_type": "code",
   "execution_count": 49,
   "id": "7c21af80",
   "metadata": {},
   "outputs": [
    {
     "data": {
      "image/png": "[encoded data removed]",
      "text/plain": [
       "<Figure size 720x576 with 1 Axes>"
      ]
     },
     "metadata": {
      "needs_background": "light"
     },
     "output_type": "display_data"
    }
   ],
   "source": [
    "sizes = [1000, 10_000, 100_000, 1_000_000]\n",
    "n_iterations = 1000\n",
    "results = []\n",
    "collisions = []\n",
    "\n",
    "for size in sizes:\n",
    "    results.append(test_collisions(n_iterations, size, keys))\n",
    "    mean = np.mean([result['total'] for result in results[-1]])\n",
    "    collisions.append(mean)\n",
    "    \n",
    "plot_collisions_bars(sizes, collisions)"
   ]
  },
  {
   "cell_type": "markdown",
   "id": "e7247cd6",
   "metadata": {},
   "source": [
    "## Exercise 2"
   ]
  },
  {
   "cell_type": "markdown",
   "id": "f7209560",
   "metadata": {},
   "source": [
    "Using the same results, let's find the hash function which produced the most collisions and the hash function that overflowed a slot the most."
   ]
  },
  {
   "cell_type": "code",
   "execution_count": 53,
   "id": "d34a6171",
   "metadata": {},
   "outputs": [],
   "source": [
    "def hash_function_to_str(hash_):\n",
    "    m = hash_[0]\n",
    "    p = hash_[1]\n",
    "    a = hash_[2]\n",
    "    b = hash_[3]\n",
    "    \n",
    "    return f\"(({a} * k + {b}) mod {p}) mod {m}\""
   ]
  },
  {
   "cell_type": "code",
   "execution_count": 55,
   "id": "4bd9c864",
   "metadata": {},
   "outputs": [
    {
     "name": "stdout",
     "output_type": "stream",
     "text": [
      "Hash function '((1822324 * k + 2320377) mod 6282701) mod 1000' produces the maximal number of collisions: 397.\n",
      "Hash function '((2874754 * k + 5871532) mod 7368037) mod 1000' produces the most overflowed slot with 8 collisions.\n"
     ]
    }
   ],
   "source": [
    "max_hash = max([e for result in results for e in result], key=lambda k: k['total'])\n",
    "max_slot_hash = max([e for result in results for e in result], key=lambda k: k['max'])\n",
    "\n",
    "print(f\"Hash function '{hash_function_to_str(max_hash['coefs'])}' produces the maximal number of collisions: {max_hash['total']}.\")\n",
    "print(f\"Hash function '{hash_function_to_str(max_slot_hash['coefs'])}' produces the most overflowed slot with {max_slot_hash['max']} collisions.\")"
   ]
  },
  {
   "cell_type": "markdown",
   "id": "bda3b50d",
   "metadata": {},
   "source": [
    "    \n",
    "        \n",
    "        "
   ]
  },
  {
   "cell_type": "markdown",
   "id": "cdd1ea2a",
   "metadata": {},
   "source": [
    "Let's see how maximum number of collisions per slot is spread over the sets of random hash functions with $m_1 = 1000$ and $m_2 = 10000$."
   ]
  },
  {
   "cell_type": "code",
   "execution_count": 105,
   "id": "ac14fbde",
   "metadata": {},
   "outputs": [
    {
     "data": {
      "image/png": "[encoded data removed]",
      "text/plain": [
       "<Figure size 1080x864 with 2 Axes>"
      ]
     },
     "metadata": {
      "needs_background": "light"
     },
     "output_type": "display_data"
    }
   ],
   "source": [
    "distribution_1000 = np.bincount([result['max'] for result in results[0]])\n",
    "distribution_10000 = np.bincount([result['max'] for result in results[1]])\n",
    "# for graphical purposes\n",
    "distribution_10000 = np.concatenate([distribution_10000, np.zeros(len(distribution_1000) - len(distribution_10000))])\n",
    "\n",
    "fig, (ax1, ax2) = plt.subplots(2, figsize=(15, 12), sharey=True)\n",
    "fig.suptitle('Maximum numbers of collisions per slot distribution for random hash functions')\n",
    "\n",
    "labels = [str(i) for i in range(len(distribution_1000))]\n",
    "x = np.arange(len(distribution_1000))\n",
    "\n",
    "rects1 = ax1.bar(x, distribution_1000, color='blue')\n",
    "ax1.set_title('m = 1000')\n",
    "ax1.set_ylabel('number of hash functions')\n",
    "ax1.set_xticks(x, labels)\n",
    "ax1.bar_label(rects1, padding=3)\n",
    "\n",
    "labels = [str(i) for i in range(len(distribution_10000))]\n",
    "x = np.arange(len(distribution_10000))\n",
    "\n",
    "rects2 = ax2.bar(x, distribution_10000, color='orange')\n",
    "ax2.set_title('m = 10000')\n",
    "ax2.set_ylabel('number of hash functions')\n",
    "ax2.set_xlabel('max number of collisions per slot')\n",
    "ax2.set_xticks(x, labels)\n",
    "ax2.bar_label(rects2, padding=3)\n",
    "\n",
    "fig.tight_layout()\n",
    "\n",
    "plt.show()"
   ]
  },
  {
   "cell_type": "markdown",
   "id": "b1b4ac34",
   "metadata": {},
   "source": [
    "From the plots, we can conclude that for $m = 1000$ a randomly picked hash function will most probably give 4 collisions in some slot. So, it is relatively easy to set the hash function parameters badly. In case of $m = 10000$, the most probable hash function will produce at most 2 collisions in some slot. Thus, it is going to be hard to choose a hash function that will produce 4 collisions per slot. With increase of $m$, the properties of hash functions get better."
   ]
  },
  {
   "cell_type": "markdown",
   "id": "9eec1d7a",
   "metadata": {},
   "source": [
    "So far, we have chosen parameters of universal hash functions properly. The most important thing is to pick $p$ prime. Otherwise, we will get way more collisions. Let's ensure that."
   ]
  },
  {
   "cell_type": "code",
   "execution_count": 108,
   "id": "17f7882c",
   "metadata": {},
   "outputs": [
    {
     "name": "stdout",
     "output_type": "stream",
     "text": [
      "Hash function with prime p produces 53 collisions.\n",
      "Hash function with p as a power of 2 produces 332 collisions.\n"
     ]
    }
   ],
   "source": [
    "m = 10_000\n",
    "# prime\n",
    "p1 = 16339\n",
    "# 2^14\n",
    "p2 = 16384\n",
    "a = 1000\n",
    "b = 111\n",
    "\n",
    "h1 = HashTable(m, p1)\n",
    "h1.set_coefs(a, b)\n",
    "h1.insert(keys)\n",
    "print(f\"Hash function with prime p produces {h1.get_collisions_num()} collisions.\")\n",
    "\n",
    "h2 = HashTable(m, p2)\n",
    "h2.set_coefs(a, b)\n",
    "h2.insert(keys)\n",
    "print(f\"Hash function with p as a power of 2 produces {h2.get_collisions_num()} collisions.\")"
   ]
  },
  {
   "cell_type": "markdown",
   "id": "70bfff40",
   "metadata": {},
   "source": [
    "Q.E.D."
   ]
  },
  {
   "cell_type": "markdown",
   "id": "207da1c5",
   "metadata": {},
   "source": [
    "## Exercise 3"
   ]
  },
  {
   "attachments": {},
   "cell_type": "markdown",
   "id": "4cc98c5e",
   "metadata": {},
   "source": [
    "**Static Hashing** uses a single hash function, and this hash function is fixed and computes destination bucket for a given key using the fixed number of locations/buckets in the hash table. This does not mean that the hash table that uses static hashing can’t be reorganized. It can still be reorganized by adding more number of buckets to the hash table. This would require:\n",
    "* A new hash function that embraces the new size of hash table.\n",
    "* Redistribution of ALL records stored in the hash table. Each record has to be touched and passed to the hash function to determine the new location/bucket. It is still possible that a record remains in the same bucket as it was before reorganization. But, hash function computation is definitely required for all the items in the hash table.\n",
    "  \n",
    "**Dynamic Hashing** tends to solve such problems:\n",
    "\n",
    "* It gives the ability to design a hash function that is automatically changed underneath when the hash table is resized.\n",
    "* Secondly, there is no need to recalculate the new bucket address for all the records in the hash table..\n",
    "* This implies that rehash or redistribution is limited only to the particular bucket that is being split. There is absolutely no need to touch items in all the other buckets in the hash table.\n",
    "\n",
    "**Extendible Hashing** is a *dynamic hashing* method wherein directories, and buckets are used to hash data. It is an aggressively flexible method in which the hash function also experiences dynamic changes. \n",
    "\n",
    "The main features in this hashing technique are:\n",
    "* **Directories**: The directories store addresses of the buckets in pointers. An id is assigned to each directory which may change each time when Directory Expansion takes place.\n",
    "* **Buckets**: The buckets are used to hash the actual data.\n",
    "  \n",
    "**Basic Structure of Extendible Hashing:**\n",
    "<img src='https://media.geeksforgeeks.org/wp-content/uploads/20190806160015/Basic-Structure-of-Extendible-Hashing.png'>\n",
    "  \n",
    "**Basic Working of Extendible Hashing:**\n",
    "* **Step 1** – Analyze Data Elements: Data elements may exist in various forms eg. Integer, String, Float, etc.. Currently, let us consider data elements of type integer. eg: 49.\n",
    "* **Step 2** – Convert into binary format: Convert the data element in Binary form. For string elements, consider the ASCII equivalent integer of the starting character and then convert the integer into binary form. Since we have 49 as our data element, its binary form is 110001.\n",
    "* **Step 3** – Check Global Depth of the directory. Suppose the global depth of the Hash-directory is 3.\n",
    "* **Step 4** – Identify the Directory: Consider the ‘Global-Depth’ number of LSBs in the binary number and match it to the directory id. Eg. The binary obtained is: 110001 and the global-depth is 3. So, the hash function will return 3 LSBs of 110001 viz. 001.\n",
    "* **Step 5** – Navigation: Now, navigate to the bucket pointed by the directory with directory-id 001.\n",
    "* **Step 6** – Insertion and Overflow Check: Insert the element and check if the bucket overflows. If an overflow is encountered, go to step 7 followed by Step 8, otherwise, go to step 9.\n",
    "* **Step 7** – Tackling Over Flow Condition during Data Insertion: Many times, while inserting data in the buckets, it might happen that the Bucket overflows. In such cases, we need to follow an appropriate procedure to avoid mishandling of data. First, Check if the local depth is less than or equal to the global depth. Then choose one of the cases below. \n",
    "    * **Case1**: If the local depth of the overflowing Bucket is equal to the global depth, then Directory Expansion, as well as Bucket Split, needs to be performed. Then increment the global depth and the local depth value by 1. And, assign appropriate pointers. Directory expansion will double the number of directories present in the hash structure.\n",
    "    * **Case2**: In case the local depth is less than the global depth, then only Bucket Split takes place. Then increment only the local depth value by 1. And, assign appropriate pointers.\n",
    "* **Step 8** – Rehashing of Split Bucket Elements: The Elements present in the overflowing bucket that is split are rehashed w.r.t the new global depth of the directory.\n",
    "* **Step 9** – The element is successfully hashed.\n",
    "\n",
    "<img src='https://media.geeksforgeeks.org/wp-content/uploads/20190806160342/Basic-Working-of-Extendible-Hashing.png'>\n",
    "  \n",
    "**Handling the Overflow:**\n",
    "<img src='https://media.geeksforgeeks.org/wp-content/uploads/20190803103752/OverFlow3.png'>\n",
    "  \n",
    "**Advantages of Extendible Hashing:**\n",
    "* Data retrieval is less expensive (in terms of computing).\n",
    "* No problem of Data-loss since the storage capacity increases dynamically.\n",
    "* With dynamic changes in hashing function, only associated old values are rehashed w.r.t the new hash function.\n",
    "  \n",
    "**Limitations Of Extendible Hashing:** \n",
    "* The directory size may increase significantly if several records are hashed on the same directory while keeping the record distribution non-uniform.\n",
    "* Size of every bucket is fixed.\n",
    "* Memory is wasted in pointers when the global depth and local depth difference becomes drastic.\n",
    "* This method is complicated to code.  \n",
    "  \n",
    "  \n",
    "**Resources:**\n",
    "* https://loonytek.com/2016/05/17/extendible-hashing/\n",
    "* https://www.geeksforgeeks.org/extendible-hashing-dynamic-approach-to-dbms/"
   ]
  },
  {
   "cell_type": "markdown",
   "id": "a9630954",
   "metadata": {},
   "source": [
    "## Exercise 4"
   ]
  },
  {
   "cell_type": "code",
   "execution_count": 33,
   "id": "edc530bd",
   "metadata": {},
   "outputs": [],
   "source": [
    "from collections import Counter\n",
    "from functools import partial"
   ]
  },
  {
   "cell_type": "code",
   "execution_count": 21,
   "id": "f07929b0",
   "metadata": {},
   "outputs": [],
   "source": [
    "def lose_lose(string, bits):\n",
    "    result = 0\n",
    "    mask = (1 << bits) - 1\n",
    "    \n",
    "    for c in string:\n",
    "        result = (result + ord(c)) & mask\n",
    "    return result\n",
    "\n",
    "\n",
    "def sdbm(string, bits):\n",
    "    result = 0\n",
    "    mask = (1 << bits) - 1\n",
    "    \n",
    "    for c in string:\n",
    "        result = (ord(c) + (result << 6) + (result << 16) - result) & mask\n",
    "    \n",
    "    return result"
   ]
  },
  {
   "cell_type": "code",
   "execution_count": 5,
   "id": "99b64fba",
   "metadata": {},
   "outputs": [],
   "source": [
    "def parse_words(url):\n",
    "    words = []\n",
    "    \n",
    "    with urllib.request.urlopen(url) as file:\n",
    "        words = file.read().splitlines()\n",
    "    for i in range(len(words)):\n",
    "        words[i] = words[i].decode('UTF-8')\n",
    "    \n",
    "    return words"
   ]
  },
  {
   "cell_type": "code",
   "execution_count": 55,
   "id": "415f40e8",
   "metadata": {},
   "outputs": [],
   "source": [
    "def test_hashing(hash_, data):\n",
    "    hashed = [hash_(word) for word in data]\n",
    "    counts = Counter(hashed)\n",
    "\n",
    "    max_ = max(counts, key=counts.get)\n",
    "    total = sum([value for value in counts.values() if value > 1])\n",
    "    \n",
    "    print(f\"Total number of colliding integers is {total}, \"\n",
    "          f\"the most occupied value has {counts[max_] if counts[max_] > 1 else 0} integers colliging.\")"
   ]
  },
  {
   "cell_type": "code",
   "execution_count": 8,
   "id": "c69d391a",
   "metadata": {},
   "outputs": [
    {
     "name": "stdout",
     "output_type": "stream",
     "text": [
      "466550\n"
     ]
    }
   ],
   "source": [
    "words = parse_words('https://raw.githubusercontent.com/dwyl/english-words/master/words.txt')\n",
    "print(len(words))"
   ]
  },
  {
   "cell_type": "code",
   "execution_count": 56,
   "id": "81c9d0f0",
   "metadata": {},
   "outputs": [
    {
     "name": "stdout",
     "output_type": "stream",
     "text": [
      "LOSE LOSE STRING HASHING (CHARACTERS ADDITION)\n",
      "\n",
      "32 bit integers case:\n",
      "Total number of colliding integers is 466389, the most occupied value has 1123 integers colliging.\n",
      "\n",
      "64 bit integers case:\n",
      "Total number of colliding integers is 466389, the most occupied value has 1123 integers colliging.\n"
     ]
    }
   ],
   "source": [
    "lose_32bit = partial(lose_lose, bits=32)\n",
    "lose_64bit = partial(lose_lose, bits=64)\n",
    "\n",
    "print('LOSE LOSE STRING HASHING (CHARACTERS ADDITION)\\n')\n",
    "print('32 bit integers case:')\n",
    "test_hashing(lose_32bit, words)\n",
    "print('\\n64 bit integers case:')\n",
    "test_hashing(lose_64bit, words)"
   ]
  },
  {
   "cell_type": "code",
   "execution_count": 57,
   "id": "3ee39b9c",
   "metadata": {},
   "outputs": [
    {
     "name": "stdout",
     "output_type": "stream",
     "text": [
      "SDBM STRING HASHING\n",
      "\n",
      "32 bit integers case:\n",
      "Total number of colliding integers is 50, the most occupied value has 2 integers colliging.\n",
      "\n",
      "64 bit integers case:\n",
      "Total number of colliding integers is 0, the most occupied value has 0 integers colliging.\n"
     ]
    }
   ],
   "source": [
    "sdbm_32bit = partial(sdbm, bits=32)\n",
    "sdbm_64bit = partial(sdbm, bits=64)\n",
    "\n",
    "print('SDBM STRING HASHING\\n')\n",
    "print('32 bit integers case:')\n",
    "test_hashing(sdbm_32bit, words)\n",
    "print('\\n64 bit integers case:')\n",
    "test_hashing(sdbm_64bit, words)"
   ]
  },
  {
   "cell_type": "markdown",
   "id": "ef0292af",
   "metadata": {},
   "source": [
    "So, the second hashing (with all its simplicity) is much better and produces no collisions on 64-bit words."
   ]
  },
  {
   "cell_type": "markdown",
   "id": "bdeac4f5",
   "metadata": {},
   "source": [
    "## Exercise 5"
   ]
  },
  {
   "cell_type": "markdown",
   "id": "c7ff25d0",
   "metadata": {},
   "source": [
    "The **Bloom Filters** is basically a set of hash tables. It inserts hashed data (actually, not data, but 'True' to mark that a slot is not empty) into each table with its own size, and it neither counts collisions nor keeps track of keys. So, what we get is a **probabilistic data structure**. When checking if some element is present, we check whether it is present in all the tables and subsequently we **may get false positives but never false negatives**.  \n",
    "  \n",
    "  \n",
    "This data structure happens to be very useful for storing sequences: you can iterate through the sequence and insert each word. Then you can use Bloom filters to continue a sequence by its beginning. This techinque demonstrates a brilliant performance for **assembling DNA sequence**. This was the motivation of Titus Brown lecture."
   ]
  }
 ],
 "metadata": {
  "kernelspec": {
   "display_name": "Python 3 (ipykernel)",
   "language": "python",
   "name": "python3"
  },
  "language_info": {
   "codemirror_mode": {
    "name": "ipython",
    "version": 3
   },
   "file_extension": ".py",
   "mimetype": "text/x-python",
   "name": "python",
   "nbconvert_exporter": "python",
   "pygments_lexer": "ipython3",
   "version": "3.8.10"
  }
 },
 "nbformat": 4,
 "nbformat_minor": 5
}
