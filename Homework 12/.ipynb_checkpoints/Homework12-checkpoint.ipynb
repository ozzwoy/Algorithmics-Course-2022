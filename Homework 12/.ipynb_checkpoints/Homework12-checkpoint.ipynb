{
 "cells": [
  {
   "cell_type": "markdown",
   "id": "49f5b045",
   "metadata": {},
   "source": [
    "# Homework 12"
   ]
  },
  {
   "cell_type": "markdown",
   "id": "a30403af",
   "metadata": {},
   "source": [
    "## Exercises 1-2"
   ]
  },
  {
   "cell_type": "markdown",
   "id": "d8f297f9",
   "metadata": {},
   "source": [
    "Two reviews are done. My student number is C28533."
   ]
  },
  {
   "cell_type": "markdown",
   "id": "85060c9a",
   "metadata": {},
   "source": [
    "## Exercise 5"
   ]
  },
  {
   "cell_type": "markdown",
   "id": "a83b2d2f",
   "metadata": {},
   "source": [
    "Let's perform the Burrows-Wheeler Transform on string **CGGTCGCT$** step by step."
   ]
  },
  {
   "cell_type": "markdown",
   "id": "734e39e6",
   "metadata": {},
   "source": [
    "First, we should build a table of all circular shifts of the string."
   ]
  },
  {
   "cell_type": "markdown",
   "id": "8cbd5192",
   "metadata": {},
   "source": [
    "<table>\n",
    "    <tr>\n",
    "        <th style=\"text-align:center\">The Shifts Table</th>\n",
    "    </tr>\n",
    "    <tr>\n",
    "        <td><img src=\"images/1.png\" width=\"700\"></td>\n",
    "    </tr>\n",
    "</table>"
   ]
  },
  {
   "cell_type": "markdown",
   "id": "a8a3d532",
   "metadata": {},
   "source": [
    "Then we should sort the rows by the first column."
   ]
  },
  {
   "cell_type": "markdown",
   "id": "6c6fd5db",
   "metadata": {},
   "source": [
    "<table>\n",
    "    <tr>\n",
    "        <th style=\"text-align:center\">The Sorted Shifts</th>\n",
    "    </tr>\n",
    "    <tr>\n",
    "        <td><img src=\"images/2.png\" width=\"700\"></td>\n",
    "    </tr>\n",
    "</table>"
   ]
  },
  {
   "cell_type": "markdown",
   "id": "7e05c1d6",
   "metadata": {},
   "source": [
    "The last column of the table is our Burrows-Wheeler Transform of the original string: **TT$GCCGCG**."
   ]
  },
  {
   "cell_type": "markdown",
   "id": "185cf382",
   "metadata": {},
   "source": [
    "To reconstruct the original string, we, firstly, should sort the characters in the string. Thus, we get the first and last columns of the original table."
   ]
  },
  {
   "cell_type": "markdown",
   "id": "e4f7fb3f",
   "metadata": {},
   "source": [
    "<table>\n",
    "    <tr>\n",
    "        <th style=\"text-align:center\">The Transformed String Next To Itself Sorted</th>\n",
    "    </tr>\n",
    "    <tr>\n",
    "        <td><img src=\"images/3.png\" width=\"700\"></td>\n",
    "    </tr>\n",
    "</table>"
   ]
  },
  {
   "cell_type": "markdown",
   "id": "8e0882f5",
   "metadata": {},
   "source": [
    "Now, we should enumerate the similar characters by the order of their appearance."
   ]
  },
  {
   "cell_type": "markdown",
   "id": "326308e7",
   "metadata": {},
   "source": [
    "<table>\n",
    "    <tr>\n",
    "        <th style=\"text-align:center\">The Same Columns But With Their Characters Enumerated</th>\n",
    "    </tr>\n",
    "    <tr>\n",
    "        <td><img src=\"images/4.png\" width=\"700\"></td>\n",
    "    </tr>\n",
    "</table>"
   ]
  },
  {
   "cell_type": "markdown",
   "id": "26210644",
   "metadata": {},
   "source": [
    "Finally, making use of the circularity of the shifts, we can recreate the original string by following the pairs of the neighboring characters in the rows."
   ]
  },
  {
   "cell_type": "markdown",
   "id": "93d6e4f9",
   "metadata": {},
   "source": [
    "<table>\n",
    "    <tr>\n",
    "        <th style=\"text-align:center\">The Order Of Visiting The Neighboring Characters</th>\n",
    "    </tr>\n",
    "    <tr>\n",
    "        <td><img src=\"images/5.png\" width=\"700\"></td>\n",
    "    </tr>\n",
    "</table>"
   ]
  },
  {
   "cell_type": "markdown",
   "id": "ebf1fe23",
   "metadata": {},
   "source": [
    "Starting from \\\\$ and traversing the table until we encounter \\\\$ again (the order is $T_1 C_3 G_1 C_1 T_2 G_3 G_2 C_2$), and then reversing the result, we get the original string: **CGGTCGCT$**."
   ]
  },
  {
   "cell_type": "markdown",
   "id": "f961bc6d",
   "metadata": {},
   "source": [
    "### Usage"
   ]
  },
  {
   "cell_type": "markdown",
   "id": "df7e48ef",
   "metadata": {},
   "source": [
    "The Burrows-Wheeler Transform is used for data compression, for example, in the Unix compression utility bzip2. This technique utilizes the property of the transform to create long sequences of similar characters and thereby replaces such sequences with a repeated character and the number of its occurrences. Another application of BWT is compression of genomic databases since a human genome has a lot of repeats (the only characters are C, T, G, A). Other tasks that make use of BWT include sequence alignment, sequence prediction and more."
   ]
  },
  {
   "cell_type": "markdown",
   "id": "61d6f04f",
   "metadata": {},
   "source": [
    "## Exercise 7"
   ]
  },
  {
   "cell_type": "markdown",
   "id": "a8a0c377",
   "metadata": {},
   "source": [
    "* **Which topics were most useful?**  \n",
    "For me, it was useful to refresh the skills of comparing the performance of different algorithms via diffrenet kinds of plots; comparing algorithms theoretically (via complexities); implementing lists, trees, graphs and different algorithms on them (it was useful to illustrate the algorithms by hand, which, among other things, gave me a good intuitive understanding of how balanced trees work); hashing methods; automatons; etc... It's easier to say what was boring and superfluous.  \n",
    "  \n",
    "  \n",
    "* **What needs to be covered better in the course?**  \n",
    "My prior knowledge in algorithmics was extremely helpful to me, because the lecture slides turned out to be very obscure and unintelligible, in many ways just useless. The lectures themselves did not follow the slides (the \"stream of consciousness\" style, which was not bad and provided a good intuitive understanding of the topics), but concentrated on very few things. Thus, lots of details remained uncovered, so my most useful learning material was GeeksForGeeks.\n",
    "Some topics were especially bad covered: for example, automatons and succinct data structures. Transforming regular expressions into NFA, and then into DFA, and then minimizing the DFA is such a complex process and is quite a topic in itself. So personally, I would split it into two lectures rather than trying to fit everything into 1.5 hours or 100 slides. Concerning succinct data structures, the slides were (frankly speaking) bad and there was almost impossible to find any materials on the topic, which seems very narrow and unpopular.  \n",
    "  \n",
    "  \n",
    "* **Are there some topics that would need more practical implementation assignments?**  \n",
    "Rather the other way round.\n",
    "\n",
    "  \n",
    "* **Are there some topics that got too much attention (e.g. too boring or otherwise already well known)?**  \n",
    "Succinct data structures.  \n",
    "\n",
    "  \n",
    "* **Other remarks:**  \n",
    "One of the main problems of the homeworks (which generally were good with especially interesting bonus tasks) is the formulations of exercises. Some tasks took me more time to interpret them than to actually implement them. Some of them were too large, neighboring with the others that were too easy (for example, building an automaton from regex in Homework 11 costed 1 point, whereas easy bonus tasks costed 3 points each). But after all, the course was useful and the practice teacher was very intelligent, kind and understanding."
   ]
  }
 ],
 "metadata": {
  "kernelspec": {
   "display_name": "Python 3 (ipykernel)",
   "language": "python",
   "name": "python3"
  },
  "language_info": {
   "codemirror_mode": {
    "name": "ipython",
    "version": 3
   },
   "file_extension": ".py",
   "mimetype": "text/x-python",
   "name": "python",
   "nbconvert_exporter": "python",
   "pygments_lexer": "ipython3",
   "version": "3.8.10"
  }
 },
 "nbformat": 4,
 "nbformat_minor": 5
}
